{
 "cells": [
  {
   "cell_type": "markdown",
   "id": "0e15ad46-4779-4c68-a431-b180333737b1",
   "metadata": {},
   "source": [
    "Ans 1  = Python was created by Guvido van Rossum and first released on feburary 20,1991."
   ]
  },
  {
   "cell_type": "markdown",
   "id": "a1348e92-3606-4625-901d-aec135130b3c",
   "metadata": {},
   "source": [
    "Ans 2  = Python is an interpreted programming language, supporting object-oriented , structured, and functional programming."
   ]
  },
  {
   "cell_type": "markdown",
   "id": "227ac679-4ca4-4576-b70b-4730050dd4a9",
   "metadata": {},
   "source": [
    "Ans 3 = Yes, Python is a case sensitive language , it treats uppercase and lowercase characters differently.This applies to identifiers too. You must avoid using the same name with different cases while naming identifiers."
   ]
  },
  {
   "cell_type": "markdown",
   "id": "2e5eee23-c33a-4dd0-8083-aa9395b5de76",
   "metadata": {},
   "source": [
    "Ans 4 = The extensions for python files are .py"
   ]
  },
  {
   "cell_type": "markdown",
   "id": "4c3d13dc-c968-4bdc-8429-172dc1c59270",
   "metadata": {},
   "source": [
    "Ans 5 = Python is an interpreted language, which means the source code of python program is converted into bytecode that is then executed by the python virtual machine."
   ]
  },
  {
   "cell_type": "markdown",
   "id": "1c43c9c6-ca3f-42b8-ba0a-9ddfcab6ad85",
   "metadata": {},
   "source": [
    "Ans 6 = The following are blocks a module , a fucntion body, and a class defination."
   ]
  },
  {
   "cell_type": "markdown",
   "id": "7741cdfc-8034-4a5e-95cd-4ceeed63e5f3",
   "metadata": {},
   "source": [
    "Ans 7 = We can write a single-line comment by adding a single # character before any statement."
   ]
  },
  {
   "cell_type": "markdown",
   "id": "6faa2345-cb03-450f-99a5-214992e32e00",
   "metadata": {},
   "source": [
    "Ans 8 = The function sys.version can help us to find the version of python that we are currently working on."
   ]
  },
  {
   "cell_type": "markdown",
   "id": "2fe1307e-0ad9-40d6-b0fb-1dba5a451294",
   "metadata": {},
   "source": [
    "Ans 9 = \"lambda\""
   ]
  },
  {
   "cell_type": "markdown",
   "id": "bfe778ca-1bf1-4e94-ad97-0c083554b4a3",
   "metadata": {},
   "source": [
    "Ans 10 = PIP stands for \"Preferred Installer Program \""
   ]
  },
  {
   "cell_type": "markdown",
   "id": "2d2c5df9-24c9-434b-95e0-a19b063a3294",
   "metadata": {},
   "source": [
    "Ans 11 = bool(), dict(), filter(),float()"
   ]
  },
  {
   "cell_type": "markdown",
   "id": "3dad7872-dc12-4fdb-bde3-a60b0a3135d4",
   "metadata": {},
   "source": [
    "Ans 12 = An identifier can have a maximum length of 79 characters in Python."
   ]
  },
  {
   "cell_type": "markdown",
   "id": "291a96e1-5cda-404d-9545-55dfe19ffe73",
   "metadata": {},
   "source": [
    "Ans 13 = Benefits of using python are:\n",
    "        1-Presence of third party modules\n",
    "        2- open source and large active community\n",
    "        3- Versatile , easy to read ,learn and write\n",
    "        4- User-friendly data structures\n",
    "        5- High-level language\n",
    "        6- Portable and interactive\n",
    "        7- Iterpreted language\n",
    "        8- Object-oriented and Procedural Programming language\n",
    "        "
   ]
  },
  {
   "cell_type": "markdown",
   "id": "92c6d630-4c1c-4a65-8c08-e72b44fd0580",
   "metadata": {},
   "source": [
    "Ans 14 = It involves a private heap containing all python objects and data structures."
   ]
  },
  {
   "cell_type": "markdown",
   "id": "77b23b93-eda0-4a86-a630-bde9d81260d5",
   "metadata": {},
   "source": [
    "Ans 15 = 1- open a browser to the python website and download the windows installer\n",
    "        2- double click on the downloaded file and install python for all users, and ensure that python is added to your path. click on install now to begin\n",
    "        3- after the installation is complete ,click disable path length limit and then close\n",
    "        4- click close to end the installation."
   ]
  },
  {
   "cell_type": "markdown",
   "id": "97ca12b0-aff5-426b-af5e-ff94cfe6f7d5",
   "metadata": {},
   "source": [
    "Ans 16 = The indentation in Python is very important.Python uses indentation to indicate a block of code."
   ]
  }
 ],
 "metadata": {
  "kernelspec": {
   "display_name": "Python 3 (ipykernel)",
   "language": "python",
   "name": "python3"
  },
  "language_info": {
   "codemirror_mode": {
    "name": "ipython",
    "version": 3
   },
   "file_extension": ".py",
   "mimetype": "text/x-python",
   "name": "python",
   "nbconvert_exporter": "python",
   "pygments_lexer": "ipython3",
   "version": "3.10.8"
  }
 },
 "nbformat": 4,
 "nbformat_minor": 5
}
