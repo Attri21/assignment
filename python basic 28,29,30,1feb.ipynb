{
 "cells": [
  {
   "cell_type": "code",
   "execution_count": null,
   "id": "a25f00e5-a724-4e77-8c3b-90acb6c0ffed",
   "metadata": {},
   "outputs": [],
   "source": [
    "### 1 + 2"
   ]
  },
  {
   "cell_type": "code",
   "execution_count": 2,
   "id": "3ff808fd-9b15-4a50-aca9-25e8195ac3e1",
   "metadata": {},
   "outputs": [],
   "source": [
    "a = 10"
   ]
  },
  {
   "cell_type": "code",
   "execution_count": 3,
   "id": "1320e65b-4a93-421b-b412-2b90bab8d003",
   "metadata": {},
   "outputs": [
    {
     "data": {
      "text/plain": [
       "10"
      ]
     },
     "execution_count": 3,
     "metadata": {},
     "output_type": "execute_result"
    }
   ],
   "source": [
    "a"
   ]
  },
  {
   "cell_type": "code",
   "execution_count": 4,
   "id": "eefcd43a-3834-46f8-ac60-dbfb5843a8b4",
   "metadata": {},
   "outputs": [],
   "source": [
    "attri = 20"
   ]
  },
  {
   "cell_type": "code",
   "execution_count": 5,
   "id": "07fee52c-2194-4606-9d22-166af4167f31",
   "metadata": {},
   "outputs": [
    {
     "data": {
      "text/plain": [
       "20"
      ]
     },
     "execution_count": 5,
     "metadata": {},
     "output_type": "execute_result"
    }
   ],
   "source": [
    "attri"
   ]
  },
  {
   "cell_type": "code",
   "execution_count": 8,
   "id": "0d9a17ce-f6c9-4d0e-85a9-7306c55479bd",
   "metadata": {},
   "outputs": [],
   "source": [
    "s = (\"pwskills\")"
   ]
  },
  {
   "cell_type": "code",
   "execution_count": 9,
   "id": "7889cb4b-4824-4dfc-b88d-86f43f56362c",
   "metadata": {},
   "outputs": [
    {
     "data": {
      "text/plain": [
       "'s'"
      ]
     },
     "execution_count": 9,
     "metadata": {},
     "output_type": "execute_result"
    }
   ],
   "source": [
    "s[2]"
   ]
  },
  {
   "cell_type": "code",
   "execution_count": 10,
   "id": "4ccdee3c-5f99-4769-94dd-25b1efd9780f",
   "metadata": {},
   "outputs": [
    {
     "data": {
      "text/plain": [
       "'p'"
      ]
     },
     "execution_count": 10,
     "metadata": {},
     "output_type": "execute_result"
    }
   ],
   "source": [
    "s[0]\n"
   ]
  },
  {
   "cell_type": "code",
   "execution_count": 11,
   "id": "a9177c11-44ff-46d0-9f61-ae82437ea1c6",
   "metadata": {},
   "outputs": [
    {
     "data": {
      "text/plain": [
       "'w'"
      ]
     },
     "execution_count": 11,
     "metadata": {},
     "output_type": "execute_result"
    }
   ],
   "source": [
    "s[-7]"
   ]
  },
  {
   "cell_type": "code",
   "execution_count": 13,
   "id": "d3a2b7ac-88ad-47f6-9874-b05949ca0b46",
   "metadata": {},
   "outputs": [
    {
     "data": {
      "text/plain": [
       "'pws'"
      ]
     },
     "execution_count": 13,
     "metadata": {},
     "output_type": "execute_result"
    }
   ],
   "source": [
    "s[0:3]"
   ]
  },
  {
   "cell_type": "code",
   "execution_count": 14,
   "id": "5e795e7c-d800-49c0-91bd-546307d6ed9e",
   "metadata": {},
   "outputs": [
    {
     "data": {
      "text/plain": [
       "36"
      ]
     },
     "execution_count": 14,
     "metadata": {},
     "output_type": "execute_result"
    }
   ],
   "source": [
    "6*6"
   ]
  },
  {
   "cell_type": "code",
   "execution_count": 15,
   "id": "269da614-2fa4-4e8c-88b8-c372d2471c30",
   "metadata": {},
   "outputs": [
    {
     "data": {
      "text/plain": [
       "7.0"
      ]
     },
     "execution_count": 15,
     "metadata": {},
     "output_type": "execute_result"
    }
   ],
   "source": [
    "7/1"
   ]
  },
  {
   "cell_type": "code",
   "execution_count": 16,
   "id": "cbb057c2-1054-4f15-9b52-dd110c84d623",
   "metadata": {},
   "outputs": [],
   "source": [
    "a=5.6"
   ]
  },
  {
   "cell_type": "code",
   "execution_count": 17,
   "id": "d1c671f8-1e67-495a-a919-9614ad98391e",
   "metadata": {},
   "outputs": [
    {
     "data": {
      "text/plain": [
       "5.6"
      ]
     },
     "execution_count": 17,
     "metadata": {},
     "output_type": "execute_result"
    }
   ],
   "source": [
    "a"
   ]
  },
  {
   "cell_type": "code",
   "execution_count": 20,
   "id": "90e08203-3160-4fcc-824c-bcbf95d4262c",
   "metadata": {},
   "outputs": [
    {
     "data": {
      "text/plain": [
       "'pwsk'"
      ]
     },
     "execution_count": 20,
     "metadata": {},
     "output_type": "execute_result"
    }
   ],
   "source": [
    "s[0:4]"
   ]
  },
  {
   "cell_type": "code",
   "execution_count": 21,
   "id": "7e43c27a-67bc-4651-a106-0e86627eed77",
   "metadata": {},
   "outputs": [
    {
     "data": {
      "text/plain": [
       "'psil'"
      ]
     },
     "execution_count": 21,
     "metadata": {},
     "output_type": "execute_result"
    }
   ],
   "source": [
    "s[0:8:2]"
   ]
  },
  {
   "cell_type": "code",
   "execution_count": 24,
   "id": "88b6a312-3128-4186-acc6-2a26e11701fd",
   "metadata": {},
   "outputs": [
    {
     "data": {
      "text/plain": [
       "'pwsk'"
      ]
     },
     "execution_count": 24,
     "metadata": {},
     "output_type": "execute_result"
    }
   ],
   "source": [
    "s[0:4:1]"
   ]
  },
  {
   "cell_type": "code",
   "execution_count": 25,
   "id": "a47cdf28-38a5-48c8-baf1-d2d5cd3708f2",
   "metadata": {},
   "outputs": [
    {
     "data": {
      "text/plain": [
       "'psil'"
      ]
     },
     "execution_count": 25,
     "metadata": {},
     "output_type": "execute_result"
    }
   ],
   "source": [
    "s[::2]"
   ]
  },
  {
   "cell_type": "code",
   "execution_count": 26,
   "id": "871ab511-f4d8-4f65-8178-042da79de2f4",
   "metadata": {},
   "outputs": [
    {
     "data": {
      "text/plain": [
       "'sil'"
      ]
     },
     "execution_count": 26,
     "metadata": {},
     "output_type": "execute_result"
    }
   ],
   "source": [
    "s[2::2]"
   ]
  },
  {
   "cell_type": "code",
   "execution_count": 3,
   "id": "dd4beee8-4693-414d-82e2-3a7e46570d2f",
   "metadata": {},
   "outputs": [
    {
     "ename": "NameError",
     "evalue": "name 's' is not defined",
     "output_type": "error",
     "traceback": [
      "\u001b[0;31m---------------------------------------------------------------------------\u001b[0m",
      "\u001b[0;31mNameError\u001b[0m                                 Traceback (most recent call last)",
      "Cell \u001b[0;32mIn[3], line 1\u001b[0m\n\u001b[0;32m----> 1\u001b[0m \u001b[43ms\u001b[49m[\u001b[38;5;241m2\u001b[39m::\u001b[38;5;241m1\u001b[39m]\n",
      "\u001b[0;31mNameError\u001b[0m: name 's' is not defined"
     ]
    }
   ],
   "source": [
    "s[2::1]"
   ]
  },
  {
   "cell_type": "code",
   "execution_count": 1,
   "id": "2793fa67-e42e-49ba-b6c5-3d7b2079dcbf",
   "metadata": {},
   "outputs": [],
   "source": [
    "q = 5.09"
   ]
  },
  {
   "cell_type": "code",
   "execution_count": 2,
   "id": "042c337e-e54b-4eed-bc37-0eeea7d2d351",
   "metadata": {},
   "outputs": [
    {
     "data": {
      "text/plain": [
       "5.09"
      ]
     },
     "execution_count": 2,
     "metadata": {},
     "output_type": "execute_result"
    }
   ],
   "source": [
    "q"
   ]
  },
  {
   "cell_type": "code",
   "execution_count": 3,
   "id": "f77873fb-600c-4516-91fc-077eece6bf5e",
   "metadata": {},
   "outputs": [
    {
     "data": {
      "text/plain": [
       "float"
      ]
     },
     "execution_count": 3,
     "metadata": {},
     "output_type": "execute_result"
    }
   ],
   "source": [
    "type(q)\n"
   ]
  },
  {
   "cell_type": "code",
   "execution_count": 4,
   "id": "7dd87df7-913b-479d-981f-c11b02ced8c3",
   "metadata": {},
   "outputs": [],
   "source": [
    "w = (\"attri\")"
   ]
  },
  {
   "cell_type": "code",
   "execution_count": 5,
   "id": "6cfeddbc-b7bb-4620-ad2e-6f844fbfde2e",
   "metadata": {},
   "outputs": [
    {
     "data": {
      "text/plain": [
       "str"
      ]
     },
     "execution_count": 5,
     "metadata": {},
     "output_type": "execute_result"
    }
   ],
   "source": [
    "type(w)"
   ]
  },
  {
   "cell_type": "code",
   "execution_count": 4,
   "id": "934da3a3-6eb5-479b-a796-2dcdad38d338",
   "metadata": {},
   "outputs": [],
   "source": [
    "s =(\"pwskills\")\n"
   ]
  },
  {
   "cell_type": "code",
   "execution_count": 5,
   "id": "6d24121d-b171-4ab8-8ecc-13fe5978cb18",
   "metadata": {},
   "outputs": [
    {
     "data": {
      "text/plain": [
       "''"
      ]
     },
     "execution_count": 5,
     "metadata": {},
     "output_type": "execute_result"
    }
   ],
   "source": [
    "s[2:7:-1]\n"
   ]
  },
  {
   "cell_type": "code",
   "execution_count": 6,
   "id": "3fc54b4d-f277-4853-87ff-9d130026ee92",
   "metadata": {},
   "outputs": [
    {
     "data": {
      "text/plain": [
       "'sllikswp'"
      ]
     },
     "execution_count": 6,
     "metadata": {},
     "output_type": "execute_result"
    }
   ],
   "source": [
    "s[::-1]\n"
   ]
  },
  {
   "cell_type": "code",
   "execution_count": 7,
   "id": "9136f850-37e9-4103-af70-9287d4e8c294",
   "metadata": {},
   "outputs": [
    {
     "data": {
      "text/plain": [
       "''"
      ]
     },
     "execution_count": 7,
     "metadata": {},
     "output_type": "execute_result"
    }
   ],
   "source": [
    "s[8:0]\n"
   ]
  },
  {
   "cell_type": "code",
   "execution_count": 12,
   "id": "d3d52c5d-1220-4720-a771-b72350390ea4",
   "metadata": {},
   "outputs": [
    {
     "data": {
      "text/plain": [
       "'sllikswp'"
      ]
     },
     "execution_count": 12,
     "metadata": {},
     "output_type": "execute_result"
    }
   ],
   "source": [
    "s[8::-1]"
   ]
  },
  {
   "cell_type": "code",
   "execution_count": 9,
   "id": "b612c75e-6e0e-40d3-902e-ff06e8982a5b",
   "metadata": {},
   "outputs": [
    {
     "data": {
      "text/plain": [
       "''"
      ]
     },
     "execution_count": 9,
     "metadata": {},
     "output_type": "execute_result"
    }
   ],
   "source": [
    "s[-2:-8:1]"
   ]
  },
  {
   "cell_type": "code",
   "execution_count": 11,
   "id": "dd8ad31b-0624-4e29-b85f-1e5896ffac44",
   "metadata": {},
   "outputs": [
    {
     "data": {
      "text/plain": [
       "'lliksw'"
      ]
     },
     "execution_count": 11,
     "metadata": {},
     "output_type": "execute_result"
    }
   ],
   "source": [
    "s[-2:-8:-1]"
   ]
  },
  {
   "cell_type": "code",
   "execution_count": 14,
   "id": "fc7cb96a-4451-48a4-bee3-bdcca8dd70bc",
   "metadata": {},
   "outputs": [
    {
     "data": {
      "text/plain": [
       "'llikswp'"
      ]
     },
     "execution_count": 14,
     "metadata": {},
     "output_type": "execute_result"
    }
   ],
   "source": [
    "s[-2::-1]\n"
   ]
  },
  {
   "cell_type": "code",
   "execution_count": 15,
   "id": "5693e83a-a5f6-4131-9e3b-97b3573efac0",
   "metadata": {},
   "outputs": [
    {
     "data": {
      "text/plain": [
       "'sllikswp'"
      ]
     },
     "execution_count": 15,
     "metadata": {},
     "output_type": "execute_result"
    }
   ],
   "source": [
    "s[::-1]"
   ]
  },
  {
   "cell_type": "code",
   "execution_count": 16,
   "id": "96b92b61-3cdf-46d7-aa74-13d011128a91",
   "metadata": {},
   "outputs": [
    {
     "data": {
      "text/plain": [
       "'pwskills'"
      ]
     },
     "execution_count": 16,
     "metadata": {},
     "output_type": "execute_result"
    }
   ],
   "source": [
    "s[::1]\n"
   ]
  },
  {
   "cell_type": "code",
   "execution_count": 18,
   "id": "f42ff5ae-56c4-4540-bd0a-d17b011ce52c",
   "metadata": {},
   "outputs": [
    {
     "ename": "IndexError",
     "evalue": "string index out of range",
     "output_type": "error",
     "traceback": [
      "\u001b[0;31m---------------------------------------------------------------------------\u001b[0m",
      "\u001b[0;31mIndexError\u001b[0m                                Traceback (most recent call last)",
      "Cell \u001b[0;32mIn[18], line 1\u001b[0m\n\u001b[0;32m----> 1\u001b[0m \u001b[43ms\u001b[49m\u001b[43m[\u001b[49m\u001b[38;5;241;43m90\u001b[39;49m\u001b[43m]\u001b[49m\n",
      "\u001b[0;31mIndexError\u001b[0m: string index out of range"
     ]
    }
   ],
   "source": [
    "s[90]"
   ]
  },
  {
   "cell_type": "code",
   "execution_count": 19,
   "id": "2f751f17-00cf-47c7-afcb-15ee6121137a",
   "metadata": {},
   "outputs": [
    {
     "data": {
      "text/plain": [
       "''"
      ]
     },
     "execution_count": 19,
     "metadata": {},
     "output_type": "execute_result"
    }
   ],
   "source": [
    "s[:-90:]"
   ]
  },
  {
   "cell_type": "code",
   "execution_count": 20,
   "id": "1e2c69ed-1378-47e8-acda-c9bd5a314925",
   "metadata": {},
   "outputs": [
    {
     "data": {
      "text/plain": [
       "'sllikswp'"
      ]
     },
     "execution_count": 20,
     "metadata": {},
     "output_type": "execute_result"
    }
   ],
   "source": [
    "s[:-90:-1]"
   ]
  },
  {
   "cell_type": "code",
   "execution_count": 21,
   "id": "b9f030c1-b5ad-4676-83d7-c85047c2089a",
   "metadata": {},
   "outputs": [
    {
     "data": {
      "text/plain": [
       "str"
      ]
     },
     "execution_count": 21,
     "metadata": {},
     "output_type": "execute_result"
    }
   ],
   "source": [
    "type(s)"
   ]
  },
  {
   "cell_type": "code",
   "execution_count": 22,
   "id": "6422b269-6452-4c69-bde2-37150a61ab24",
   "metadata": {},
   "outputs": [],
   "source": [
    "c = 200"
   ]
  },
  {
   "cell_type": "code",
   "execution_count": 23,
   "id": "0d9b5dd7-4ead-421d-8612-2de74cf54d3e",
   "metadata": {},
   "outputs": [],
   "source": [
    "s1 = \"this is my string class\""
   ]
  },
  {
   "cell_type": "code",
   "execution_count": 24,
   "id": "153d4722-da3b-4bf1-9b35-9a8048ee0440",
   "metadata": {},
   "outputs": [
    {
     "data": {
      "text/plain": [
       "23"
      ]
     },
     "execution_count": 24,
     "metadata": {},
     "output_type": "execute_result"
    }
   ],
   "source": [
    "len(s1)"
   ]
  },
  {
   "cell_type": "code",
   "execution_count": 66,
   "id": "72f185d4-7216-457a-896c-ddeaa02780ac",
   "metadata": {},
   "outputs": [
    {
     "data": {
      "text/plain": [
       "3"
      ]
     },
     "execution_count": 66,
     "metadata": {},
     "output_type": "execute_result"
    }
   ],
   "source": [
    " ##this is a code to find a charactered of sub string in string\n",
    "    \n",
    "s1.find('s')"
   ]
  },
  {
   "cell_type": "code",
   "execution_count": 27,
   "id": "b7eb9a1a-090d-4e8a-a3f5-ee660120699d",
   "metadata": {},
   "outputs": [
    {
     "data": {
      "text/plain": [
       "2"
      ]
     },
     "execution_count": 27,
     "metadata": {},
     "output_type": "execute_result"
    }
   ],
   "source": [
    "s1.find('i')\n",
    "        "
   ]
  },
  {
   "cell_type": "code",
   "execution_count": 29,
   "id": "1f64406e-4a18-4d28-8f41-552825571ef4",
   "metadata": {},
   "outputs": [
    {
     "data": {
      "text/plain": [
       "2"
      ]
     },
     "execution_count": 29,
     "metadata": {},
     "output_type": "execute_result"
    }
   ],
   "source": [
    "s1.find('is')"
   ]
  },
  {
   "cell_type": "code",
   "execution_count": 30,
   "id": "82d77c73-a512-441c-8d3c-0e854352ecb6",
   "metadata": {},
   "outputs": [
    {
     "data": {
      "text/plain": [
       "-1"
      ]
     },
     "execution_count": 30,
     "metadata": {},
     "output_type": "execute_result"
    }
   ],
   "source": [
    "s1.find('iS')\n"
   ]
  },
  {
   "cell_type": "code",
   "execution_count": 31,
   "id": "49944229-a0e6-4470-9aa2-2e8ea5185751",
   "metadata": {},
   "outputs": [
    {
     "data": {
      "text/plain": [
       "5"
      ]
     },
     "execution_count": 31,
     "metadata": {},
     "output_type": "execute_result"
    }
   ],
   "source": [
    "s1.count('s')"
   ]
  },
  {
   "cell_type": "code",
   "execution_count": 32,
   "id": "0ee01e85-cbaa-4a6e-958d-0d0d8c2b7f00",
   "metadata": {},
   "outputs": [
    {
     "data": {
      "text/plain": [
       "1"
      ]
     },
     "execution_count": 32,
     "metadata": {},
     "output_type": "execute_result"
    }
   ],
   "source": [
    "s1.count('st')"
   ]
  },
  {
   "cell_type": "code",
   "execution_count": 33,
   "id": "331c568c-ceea-49ca-b6ca-5533f235838c",
   "metadata": {},
   "outputs": [
    {
     "data": {
      "text/plain": [
       "0"
      ]
     },
     "execution_count": 33,
     "metadata": {},
     "output_type": "execute_result"
    }
   ],
   "source": [
    "s1.count('z')\n"
   ]
  },
  {
   "cell_type": "code",
   "execution_count": 34,
   "id": "2198e01e-5f9e-475d-8506-991a2ccfd3c9",
   "metadata": {},
   "outputs": [
    {
     "data": {
      "text/plain": [
       "1"
      ]
     },
     "execution_count": 34,
     "metadata": {},
     "output_type": "execute_result"
    }
   ],
   "source": [
    "s1.count('g')"
   ]
  },
  {
   "cell_type": "code",
   "execution_count": 36,
   "id": "cafc4187-f689-403c-800d-58c48f8f7402",
   "metadata": {},
   "outputs": [
    {
     "data": {
      "text/plain": [
       "'THIS IS MY STRING CLASS'"
      ]
     },
     "execution_count": 36,
     "metadata": {},
     "output_type": "execute_result"
    }
   ],
   "source": [
    "s1.upper()"
   ]
  },
  {
   "cell_type": "code",
   "execution_count": 37,
   "id": "c68cbd24-cd8f-43e1-a181-78c5254fbaac",
   "metadata": {},
   "outputs": [
    {
     "data": {
      "text/plain": [
       "'this is my string class'"
      ]
     },
     "execution_count": 37,
     "metadata": {},
     "output_type": "execute_result"
    }
   ],
   "source": [
    "s1"
   ]
  },
  {
   "cell_type": "code",
   "execution_count": 39,
   "id": "3a5b9532-3aff-4483-a49e-302d12ad509a",
   "metadata": {},
   "outputs": [],
   "source": [
    "s2 = 'THIS IS MY STRING CLASS'"
   ]
  },
  {
   "cell_type": "code",
   "execution_count": 40,
   "id": "df3f0ab8-50c6-4821-ae27-3155e95d331a",
   "metadata": {},
   "outputs": [
    {
     "data": {
      "text/plain": [
       "'this is my string class'"
      ]
     },
     "execution_count": 40,
     "metadata": {},
     "output_type": "execute_result"
    }
   ],
   "source": [
    "s2.lower()\n"
   ]
  },
  {
   "cell_type": "code",
   "execution_count": 41,
   "id": "aa86d3d3-a015-43c4-ac81-016d5aa36650",
   "metadata": {},
   "outputs": [
    {
     "data": {
      "text/plain": [
       "'this is my string class'"
      ]
     },
     "execution_count": 41,
     "metadata": {},
     "output_type": "execute_result"
    }
   ],
   "source": [
    "s1\n"
   ]
  },
  {
   "cell_type": "code",
   "execution_count": 42,
   "id": "198ed6e3-3da3-40c8-a3a0-9cfb2c9af854",
   "metadata": {},
   "outputs": [
    {
     "data": {
      "text/plain": [
       "'This Is My String Class'"
      ]
     },
     "execution_count": 42,
     "metadata": {},
     "output_type": "execute_result"
    }
   ],
   "source": [
    "s1.title()"
   ]
  },
  {
   "cell_type": "code",
   "execution_count": 43,
   "id": "67fcbb03-19a2-4296-ba0e-2ad9e65107f0",
   "metadata": {},
   "outputs": [
    {
     "data": {
      "text/plain": [
       "'This is my string class'"
      ]
     },
     "execution_count": 43,
     "metadata": {},
     "output_type": "execute_result"
    }
   ],
   "source": [
    "s1.capitalize()"
   ]
  },
  {
   "cell_type": "code",
   "execution_count": 44,
   "id": "2e24d56c-1fa6-46c0-919a-fce3db386fa6",
   "metadata": {},
   "outputs": [
    {
     "data": {
      "text/plain": [
       "'pwskills'"
      ]
     },
     "execution_count": 44,
     "metadata": {},
     "output_type": "execute_result"
    }
   ],
   "source": [
    "s"
   ]
  },
  {
   "cell_type": "code",
   "execution_count": 46,
   "id": "bb1f9e6b-0370-4a07-8e6f-0f333b93454a",
   "metadata": {},
   "outputs": [
    {
     "data": {
      "text/plain": [
       "'pwskills'"
      ]
     },
     "execution_count": 46,
     "metadata": {},
     "output_type": "execute_result"
    }
   ],
   "source": [
    "s"
   ]
  },
  {
   "cell_type": "code",
   "execution_count": 50,
   "id": "db5f4ffb-55a9-4f64-800f-07a7ee3f2bb8",
   "metadata": {},
   "outputs": [
    {
     "data": {
      "text/plain": [
       "'pwskills attri'"
      ]
     },
     "execution_count": 50,
     "metadata": {},
     "output_type": "execute_result"
    }
   ],
   "source": [
    "s + \" attri\"\n"
   ]
  },
  {
   "cell_type": "code",
   "execution_count": 51,
   "id": "7591ac6f-30c5-41a8-9dfb-be11728510c5",
   "metadata": {},
   "outputs": [
    {
     "data": {
      "text/plain": [
       "'pwskills1'"
      ]
     },
     "execution_count": 51,
     "metadata": {},
     "output_type": "execute_result"
    }
   ],
   "source": [
    "s + str(1)\n"
   ]
  },
  {
   "cell_type": "code",
   "execution_count": 52,
   "id": "0e060fe0-0fd2-4483-a90c-b192431c102a",
   "metadata": {},
   "outputs": [
    {
     "data": {
      "text/plain": [
       "'pwskills1'"
      ]
     },
     "execution_count": 52,
     "metadata": {},
     "output_type": "execute_result"
    }
   ],
   "source": [
    "s + \"1\"\n"
   ]
  },
  {
   "cell_type": "code",
   "execution_count": 53,
   "id": "96215084-2b50-42f7-a75e-3da6a6ddf14b",
   "metadata": {},
   "outputs": [
    {
     "data": {
      "text/plain": [
       "'pwskillspwskillspwskills'"
      ]
     },
     "execution_count": 53,
     "metadata": {},
     "output_type": "execute_result"
    }
   ],
   "source": [
    "s * 3"
   ]
  },
  {
   "cell_type": "code",
   "execution_count": 58,
   "id": "d1335168-a0dd-4b4e-9c4d-dcd0f83c8089",
   "metadata": {},
   "outputs": [
    {
     "data": {
      "text/plain": [
       "'attriattriattriattriattri'"
      ]
     },
     "execution_count": 58,
     "metadata": {},
     "output_type": "execute_result"
    }
   ],
   "source": [
    "'attri' * 5\n"
   ]
  },
  {
   "cell_type": "code",
   "execution_count": 59,
   "id": "2879b173-9b4a-4091-b94f-1f14c43de27c",
   "metadata": {},
   "outputs": [
    {
     "ename": "TypeError",
     "evalue": "unsupported operand type(s) for /: 'str' and 'int'",
     "output_type": "error",
     "traceback": [
      "\u001b[0;31m---------------------------------------------------------------------------\u001b[0m",
      "\u001b[0;31mTypeError\u001b[0m                                 Traceback (most recent call last)",
      "Cell \u001b[0;32mIn[59], line 1\u001b[0m\n\u001b[0;32m----> 1\u001b[0m \u001b[38;5;124;43m\"\u001b[39;49m\u001b[38;5;124;43mattri\u001b[39;49m\u001b[38;5;124;43m\"\u001b[39;49m\u001b[38;5;241;43m/\u001b[39;49m\u001b[38;5;241;43m3\u001b[39;49m\n",
      "\u001b[0;31mTypeError\u001b[0m: unsupported operand type(s) for /: 'str' and 'int'"
     ]
    }
   ],
   "source": [
    "\"attri\"/3"
   ]
  },
  {
   "cell_type": "code",
   "execution_count": 60,
   "id": "49cc41ac-7a97-4f5d-9023-dba1168d0315",
   "metadata": {},
   "outputs": [
    {
     "ename": "SyntaxError",
     "evalue": "unterminated string literal (detected at line 1) (1811489030.py, line 1)",
     "output_type": "error",
     "traceback": [
      "\u001b[0;36m  Cell \u001b[0;32mIn[60], line 1\u001b[0;36m\u001b[0m\n\u001b[0;31m    'don't do copy and paste in my class'\u001b[0m\n\u001b[0m                                        ^\u001b[0m\n\u001b[0;31mSyntaxError\u001b[0m\u001b[0;31m:\u001b[0m unterminated string literal (detected at line 1)\n"
     ]
    }
   ],
   "source": [
    "'don't do copy and paste in my class'"
   ]
  },
  {
   "cell_type": "code",
   "execution_count": 61,
   "id": "590fb4a4-1d87-469e-b92d-e13589334686",
   "metadata": {},
   "outputs": [
    {
     "data": {
      "text/plain": [
       "\"don't do copy paste in my class\""
      ]
     },
     "execution_count": 61,
     "metadata": {},
     "output_type": "execute_result"
    }
   ],
   "source": [
    "\"don't do copy paste in my class\"\n"
   ]
  },
  {
   "cell_type": "code",
   "execution_count": 68,
   "id": "1c0b1e9a-290b-4f46-a15b-21b6a68ac80e",
   "metadata": {},
   "outputs": [
    {
     "data": {
      "text/plain": [
       "'This is my first class for programming\\ni have learnt variable declaration , data type, string , int, boolean , complex number , '"
      ]
     },
     "execution_count": 68,
     "metadata": {},
     "output_type": "execute_result"
    }
   ],
   "source": [
    "'''This is my first class for programming\n",
    "i have learnt variable declaration , data type, string , int, boolean , complex number , '''"
   ]
  },
  {
   "cell_type": "code",
   "execution_count": 69,
   "id": "be2227c1-bea1-4944-ab1b-0680915b58bf",
   "metadata": {},
   "outputs": [],
   "source": [
    "s3 = '''This is my first class for programming\n",
    "i have learnt variable declaration , data type, string , int, boolean , complex number , '''\n"
   ]
  },
  {
   "cell_type": "code",
   "execution_count": 71,
   "id": "62b0ef1a-2ac3-4133-aeab-ab6ed6160f16",
   "metadata": {},
   "outputs": [
    {
     "data": {
      "text/plain": [
       "'this is my first class for programming \\ni have learnt variable declaration , data type , string , int , boolean , complex number \\ni have seen some example of string slicing indexing\\ni have gone though some of string inbuilt function apart from that i am trying to practice in my system'"
      ]
     },
     "execution_count": 71,
     "metadata": {},
     "output_type": "execute_result"
    }
   ],
   "source": [
    "''sl'this is my first class for programming \n",
    "i have learnt variable declaration , data type , string , int , boolean , complex number \n",
    "i have seen some example of string icing indexing\n",
    "i have gone though some of string inbuilt function apart from that i am trying to practice in my system'''\n"
   ]
  },
  {
   "cell_type": "code",
   "execution_count": 73,
   "id": "d466ffae-39bf-4064-846f-b7a28f2c2ca0",
   "metadata": {},
   "outputs": [],
   "source": [
    "s3 = '''this is my first class for programming \n",
    "i have learnt variable declaration , data type , string , int , boolean , complex number \n",
    "i have seen some example of string icing indexing\n",
    "i have gone though some of string inbuilt function apart from that i am trying to practice in my system'''\n"
   ]
  },
  {
   "cell_type": "code",
   "execution_count": 74,
   "id": "87d88580-ca81-4af5-8deb-8368f21f9781",
   "metadata": {},
   "outputs": [
    {
     "data": {
      "text/plain": [
       "'this is my first class for programming \\ni have learnt variable declaration , data type , string , int , boolean , complex number \\ni have seen some example of string icing indexing\\ni have gone though some of string inbuilt function apart from that i am trying to practice in my system'"
      ]
     },
     "execution_count": 74,
     "metadata": {},
     "output_type": "execute_result"
    }
   ],
   "source": [
    "s3"
   ]
  },
  {
   "cell_type": "code",
   "execution_count": 75,
   "id": "08473647-a5fa-4248-a5e4-f1c936c340b2",
   "metadata": {},
   "outputs": [
    {
     "data": {
      "text/plain": [
       "'This Is My First Class For Programming \\nI Have Learnt Variable Declaration , Data Type , String , Int , Boolean , Complex Number \\nI Have Seen Some Example Of String Icing Indexing\\nI Have Gone Though Some Of String Inbuilt Function Apart From That I Am Trying To Practice In My System'"
      ]
     },
     "execution_count": 75,
     "metadata": {},
     "output_type": "execute_result"
    }
   ],
   "source": [
    "s3.title()"
   ]
  },
  {
   "cell_type": "code",
   "execution_count": 76,
   "id": "e9784282-b426-4509-8fce-4e35d8a7b736",
   "metadata": {},
   "outputs": [
    {
     "data": {
      "text/plain": [
       "'This is my first class for programming \\ni have learnt variable declaration , data type , string , int , boolean , complex number \\ni have seen some example of string icing indexing\\ni have gone though some of string inbuilt function apart from that i am trying to practice in my system'"
      ]
     },
     "execution_count": 76,
     "metadata": {},
     "output_type": "execute_result"
    }
   ],
   "source": [
    "s3.capitalize()"
   ]
  },
  {
   "cell_type": "code",
   "execution_count": 78,
   "id": "624f14f8-4608-450d-8903-af56ee645736",
   "metadata": {},
   "outputs": [
    {
     "data": {
      "text/plain": [
       "'THIS IS MY FIRST CLASS FOR PROGRAMMING \\nI HAVE LEARNT VARIABLE DECLARATION , DATA TYPE , STRING , INT , BOOLEAN , COMPLEX NUMBER \\nI HAVE SEEN SOME EXAMPLE OF STRING ICING INDEXING\\nI HAVE GONE THOUGH SOME OF STRING INBUILT FUNCTION APART FROM THAT I AM TRYING TO PRACTICE IN MY SYSTEM'"
      ]
     },
     "execution_count": 78,
     "metadata": {},
     "output_type": "execute_result"
    }
   ],
   "source": [
    "s3.upper()\n"
   ]
  },
  {
   "cell_type": "code",
   "execution_count": 79,
   "id": "662a1ce1-74c7-46e7-94cb-83adfe71b4be",
   "metadata": {},
   "outputs": [
    {
     "data": {
      "text/plain": [
       "'this is my first class for programming \\ni have learnt variable declaration , data type , string , int , boolean , complex number \\ni have seen some example of string icing indexing\\ni have gone though some of string inbuilt function apart from that i am trying to practice in my system'"
      ]
     },
     "execution_count": 79,
     "metadata": {},
     "output_type": "execute_result"
    }
   ],
   "source": [
    "s3.lower()"
   ]
  },
  {
   "cell_type": "code",
   "execution_count": 82,
   "id": "dd29eb08-6cc8-476d-b0e1-70e46cb4de99",
   "metadata": {},
   "outputs": [
    {
     "data": {
      "text/plain": [
       "13"
      ]
     },
     "execution_count": 82,
     "metadata": {},
     "output_type": "execute_result"
    }
   ],
   "source": [
    "s3.count('s')"
   ]
  },
  {
   "cell_type": "code",
   "execution_count": 83,
   "id": "aee42522-27fa-465e-9797-f73ef96e5cee",
   "metadata": {},
   "outputs": [
    {
     "data": {
      "text/plain": [
       "2"
      ]
     },
     "execution_count": 83,
     "metadata": {},
     "output_type": "execute_result"
    }
   ],
   "source": [
    "s3.find('is')\n"
   ]
  },
  {
   "cell_type": "code",
   "execution_count": 84,
   "id": "f7b4c7b9-b567-4461-9baf-dac61afbc53e",
   "metadata": {},
   "outputs": [
    {
     "data": {
      "text/plain": [
       "283"
      ]
     },
     "execution_count": 84,
     "metadata": {},
     "output_type": "execute_result"
    }
   ],
   "source": [
    "len(s3)\n",
    "\n",
    "\n"
   ]
  },
  {
   "cell_type": "code",
   "execution_count": 85,
   "id": "cdf05549-86fd-4f84-af6f-23a4bd090bed",
   "metadata": {},
   "outputs": [
    {
     "data": {
      "text/plain": [
       "'this is my first class for programming \\ni have learnt variable declaration , data type , string , int , boolean , complex number \\ni have seen some example of string icing indexing\\ni have gone though some of string inbuilt function apart from that i am trying to practice in my system'"
      ]
     },
     "execution_count": 85,
     "metadata": {},
     "output_type": "execute_result"
    }
   ],
   "source": [
    "s3[::1]"
   ]
  },
  {
   "cell_type": "code",
   "execution_count": 92,
   "id": "7105874c-c1bd-4322-835b-4dd9039294c4",
   "metadata": {},
   "outputs": [
    {
     "data": {
      "text/plain": [
       "'metsys '"
      ]
     },
     "execution_count": 92,
     "metadata": {},
     "output_type": "execute_result"
    }
   ],
   "source": [
    "s3[-1:-8:-1]\n",
    "\n"
   ]
  },
  {
   "cell_type": "code",
   "execution_count": 94,
   "id": "08f592e4-7ab5-4c89-9c47-c3339d4cf133",
   "metadata": {},
   "outputs": [
    {
     "data": {
      "text/plain": [
       "''"
      ]
     },
     "execution_count": 94,
     "metadata": {},
     "output_type": "execute_result"
    }
   ],
   "source": [
    "s3[2:9:-1]\n"
   ]
  },
  {
   "cell_type": "code",
   "execution_count": 95,
   "id": "294d8cd7-c25c-43a0-88dc-58d657b706d2",
   "metadata": {},
   "outputs": [
    {
     "data": {
      "text/plain": [
       "'m'"
      ]
     },
     "execution_count": 95,
     "metadata": {},
     "output_type": "execute_result"
    }
   ],
   "source": [
    "s3[-9:-8:]"
   ]
  },
  {
   "cell_type": "code",
   "execution_count": 25,
   "id": "7b039dcd-84d3-4529-924a-042183043433",
   "metadata": {},
   "outputs": [],
   "source": [
    "l= [1,345,45,\"attri\",True,5+7j,345.456]"
   ]
  },
  {
   "cell_type": "code",
   "execution_count": 5,
   "id": "276aef66-6d4d-47cf-b5f4-6f29a6d59a69",
   "metadata": {},
   "outputs": [
    {
     "data": {
      "text/plain": [
       "list"
      ]
     },
     "execution_count": 5,
     "metadata": {},
     "output_type": "execute_result"
    }
   ],
   "source": [
    "type(l)\n"
   ]
  },
  {
   "cell_type": "code",
   "execution_count": 7,
   "id": "b76f31dd-8068-4ec2-973b-4bb5a1771126",
   "metadata": {},
   "outputs": [
    {
     "data": {
      "text/plain": [
       "1"
      ]
     },
     "execution_count": 7,
     "metadata": {},
     "output_type": "execute_result"
    }
   ],
   "source": [
    "l[0]"
   ]
  },
  {
   "cell_type": "code",
   "execution_count": 11,
   "id": "95cd4306-9630-4de4-b6f0-03be276c9a9f",
   "metadata": {},
   "outputs": [
    {
     "data": {
      "text/plain": [
       "345"
      ]
     },
     "execution_count": 11,
     "metadata": {},
     "output_type": "execute_result"
    }
   ],
   "source": [
    "l[6]\n",
    "\n"
   ]
  },
  {
   "cell_type": "code",
   "execution_count": 12,
   "id": "f1515e45-85e8-40f0-a314-5a3bacdcf9e6",
   "metadata": {},
   "outputs": [
    {
     "data": {
      "text/plain": [
       "(5+7j)"
      ]
     },
     "execution_count": 12,
     "metadata": {},
     "output_type": "execute_result"
    }
   ],
   "source": [
    "l[5]"
   ]
  },
  {
   "cell_type": "code",
   "execution_count": 13,
   "id": "f72fad6a-4c09-40c8-a2c6-44dadd3daf8c",
   "metadata": {},
   "outputs": [
    {
     "data": {
      "text/plain": [
       "True"
      ]
     },
     "execution_count": 13,
     "metadata": {},
     "output_type": "execute_result"
    }
   ],
   "source": [
    "l[4]\n"
   ]
  },
  {
   "cell_type": "code",
   "execution_count": 14,
   "id": "eb73ded5-3d31-4bf0-8155-5594bceb8f97",
   "metadata": {},
   "outputs": [
    {
     "data": {
      "text/plain": [
       "[1, 345, 45, 'attri', True, (5+7j), 345, 456]"
      ]
     },
     "execution_count": 14,
     "metadata": {},
     "output_type": "execute_result"
    }
   ],
   "source": [
    "l"
   ]
  },
  {
   "cell_type": "code",
   "execution_count": 16,
   "id": "6af59b2e-9014-4a7c-9ada-ccdd2e01c3fc",
   "metadata": {},
   "outputs": [
    {
     "data": {
      "text/plain": [
       "[1, 345, 45]"
      ]
     },
     "execution_count": 16,
     "metadata": {},
     "output_type": "execute_result"
    }
   ],
   "source": [
    "l[0:3]"
   ]
  },
  {
   "cell_type": "code",
   "execution_count": 17,
   "id": "1251d518-3c91-4f2b-becb-e729943027b6",
   "metadata": {},
   "outputs": [
    {
     "data": {
      "text/plain": [
       "[345, 45, 'attri', True, (5+7j)]"
      ]
     },
     "execution_count": 17,
     "metadata": {},
     "output_type": "execute_result"
    }
   ],
   "source": [
    "l[1:6]"
   ]
  },
  {
   "cell_type": "code",
   "execution_count": 18,
   "id": "878819da-cbbb-45ec-ae07-0ab66b00350c",
   "metadata": {},
   "outputs": [
    {
     "data": {
      "text/plain": [
       "456"
      ]
     },
     "execution_count": 18,
     "metadata": {},
     "output_type": "execute_result"
    }
   ],
   "source": [
    "l[-1]\n"
   ]
  },
  {
   "cell_type": "code",
   "execution_count": 19,
   "id": "7b88f49f-e35f-49c8-ae21-ffb87be66b7d",
   "metadata": {},
   "outputs": [
    {
     "data": {
      "text/plain": [
       "45"
      ]
     },
     "execution_count": 19,
     "metadata": {},
     "output_type": "execute_result"
    }
   ],
   "source": [
    "l[-6]"
   ]
  },
  {
   "cell_type": "code",
   "execution_count": 20,
   "id": "98853ee4-801a-4d23-9850-d7c95b0cffaf",
   "metadata": {},
   "outputs": [
    {
     "data": {
      "text/plain": [
       "345"
      ]
     },
     "execution_count": 20,
     "metadata": {},
     "output_type": "execute_result"
    }
   ],
   "source": [
    "l[-7]\n"
   ]
  },
  {
   "cell_type": "code",
   "execution_count": 21,
   "id": "8dc10b67-0d41-46a1-bfa7-7c0292b91c12",
   "metadata": {},
   "outputs": [
    {
     "data": {
      "text/plain": [
       "[456, 345, (5+7j), True, 'attri', 45, 345, 1]"
      ]
     },
     "execution_count": 21,
     "metadata": {},
     "output_type": "execute_result"
    }
   ],
   "source": [
    "l[::-1]\n"
   ]
  },
  {
   "cell_type": "code",
   "execution_count": 22,
   "id": "1bc6e178-9e9d-4f07-9a25-a2cb85af4e49",
   "metadata": {},
   "outputs": [
    {
     "data": {
      "text/plain": [
       "[1, 345, 45, 'attri', True, (5+7j), 345, 456]"
      ]
     },
     "execution_count": 22,
     "metadata": {},
     "output_type": "execute_result"
    }
   ],
   "source": [
    "l[::1]\n",
    "\n"
   ]
  },
  {
   "cell_type": "code",
   "execution_count": 23,
   "id": "2c6e4fc6-c2be-470c-a04f-118a833f1812",
   "metadata": {},
   "outputs": [
    {
     "data": {
      "text/plain": [
       "[1, 345, 45, 'attri', True, (5+7j), 345, 456]"
      ]
     },
     "execution_count": 23,
     "metadata": {},
     "output_type": "execute_result"
    }
   ],
   "source": [
    "l"
   ]
  },
  {
   "cell_type": "code",
   "execution_count": 24,
   "id": "c32ebe0e-1dba-4cea-91fe-9668f1a2afc7",
   "metadata": {},
   "outputs": [
    {
     "data": {
      "text/plain": [
       "[1, 45, True, 345]"
      ]
     },
     "execution_count": 24,
     "metadata": {},
     "output_type": "execute_result"
    }
   ],
   "source": [
    "l[::2]\n",
    "\n"
   ]
  },
  {
   "cell_type": "code",
   "execution_count": 26,
   "id": "16fc74dc-e381-4dc0-9b7e-230b9705cb32",
   "metadata": {},
   "outputs": [
    {
     "data": {
      "text/plain": [
       "[1, 345, 45, 'attri', True, (5+7j), 345.456]"
      ]
     },
     "execution_count": 26,
     "metadata": {},
     "output_type": "execute_result"
    }
   ],
   "source": [
    "l"
   ]
  },
  {
   "cell_type": "code",
   "execution_count": 27,
   "id": "3892af07-1f85-4459-8b6c-86181fc5746c",
   "metadata": {},
   "outputs": [
    {
     "data": {
      "text/plain": [
       "[1, 'attri', 345.456]"
      ]
     },
     "execution_count": 27,
     "metadata": {},
     "output_type": "execute_result"
    }
   ],
   "source": [
    "l[::3]"
   ]
  },
  {
   "cell_type": "code",
   "execution_count": 28,
   "id": "ea5f6b8b-4f74-428e-9acc-3f3e6c7e4e4b",
   "metadata": {},
   "outputs": [],
   "source": [
    "s = \"pwskills\""
   ]
  },
  {
   "cell_type": "code",
   "execution_count": 31,
   "id": "2b1668d3-af8e-48a1-83a3-3b3433522956",
   "metadata": {},
   "outputs": [
    {
     "ename": "TypeError",
     "evalue": "unsupported operand type(s) for +: 'int' and 'str'",
     "output_type": "error",
     "traceback": [
      "\u001b[0;31m---------------------------------------------------------------------------\u001b[0m",
      "\u001b[0;31mTypeError\u001b[0m                                 Traceback (most recent call last)",
      "Cell \u001b[0;32mIn[31], line 1\u001b[0m\n\u001b[0;32m----> 1\u001b[0m \u001b[38;5;241;43m1\u001b[39;49m\u001b[43m \u001b[49m\u001b[38;5;241;43m+\u001b[39;49m\u001b[43m \u001b[49m\u001b[38;5;124;43m\"\u001b[39;49m\u001b[38;5;124;43ms\u001b[39;49m\u001b[38;5;124;43m\"\u001b[39;49m\n",
      "\u001b[0;31mTypeError\u001b[0m: unsupported operand type(s) for +: 'int' and 'str'"
     ]
    }
   ],
   "source": [
    "1 + \"s\"\n"
   ]
  },
  {
   "cell_type": "code",
   "execution_count": 34,
   "id": "0d4c6340-9210-4a0a-8dfa-264e3c9f7088",
   "metadata": {},
   "outputs": [
    {
     "data": {
      "text/plain": [
       "['p',\n",
       " 'w',\n",
       " 's',\n",
       " 'k',\n",
       " 'i',\n",
       " 'l',\n",
       " 'l',\n",
       " 's',\n",
       " 1,\n",
       " 345,\n",
       " 45,\n",
       " 'attri',\n",
       " True,\n",
       " (5+7j),\n",
       " 345.456]"
      ]
     },
     "execution_count": 34,
     "metadata": {},
     "output_type": "execute_result"
    }
   ],
   "source": [
    "list(s)+l"
   ]
  },
  {
   "cell_type": "code",
   "execution_count": 35,
   "id": "8b72aa5b-5f55-4d82-b6b2-bbf920795d83",
   "metadata": {},
   "outputs": [
    {
     "data": {
      "text/plain": [
       "[1, 345, 45, 'attri', True, (5+7j), 345.456]"
      ]
     },
     "execution_count": 35,
     "metadata": {},
     "output_type": "execute_result"
    }
   ],
   "source": [
    "l\n",
    "\n",
    "\n"
   ]
  },
  {
   "cell_type": "code",
   "execution_count": 36,
   "id": "c79f1504-a0f2-4d87-bbf1-427cbaf4d130",
   "metadata": {},
   "outputs": [
    {
     "data": {
      "text/plain": [
       "True"
      ]
     },
     "execution_count": 36,
     "metadata": {},
     "output_type": "execute_result"
    }
   ],
   "source": [
    "l[4]\n"
   ]
  },
  {
   "cell_type": "code",
   "execution_count": 40,
   "id": "384f71b4-4764-4ad3-8a62-59130d844e78",
   "metadata": {},
   "outputs": [
    {
     "data": {
      "text/plain": [
       "str"
      ]
     },
     "execution_count": 40,
     "metadata": {},
     "output_type": "execute_result"
    }
   ],
   "source": [
    "type( l[3])\n",
    "\n",
    "\n",
    "\n",
    "\n",
    "\n"
   ]
  },
  {
   "cell_type": "code",
   "execution_count": 42,
   "id": "1e60c152-9c74-4038-8f4f-2d9afea6afeb",
   "metadata": {},
   "outputs": [
    {
     "data": {
      "text/plain": [
       "'at'"
      ]
     },
     "execution_count": 42,
     "metadata": {},
     "output_type": "execute_result"
    }
   ],
   "source": [
    "l[3][0:2]\n"
   ]
  },
  {
   "cell_type": "code",
   "execution_count": 43,
   "id": "86429452-ee7d-4ff2-ba34-2a1a3f170f66",
   "metadata": {},
   "outputs": [
    {
     "data": {
      "text/plain": [
       "True"
      ]
     },
     "execution_count": 43,
     "metadata": {},
     "output_type": "execute_result"
    }
   ],
   "source": [
    "l[4]"
   ]
  },
  {
   "cell_type": "code",
   "execution_count": 44,
   "id": "bce1eaca-6eeb-451d-989d-c817f669dbb2",
   "metadata": {},
   "outputs": [
    {
     "data": {
      "text/plain": [
       "'at'"
      ]
     },
     "execution_count": 44,
     "metadata": {},
     "output_type": "execute_result"
    }
   ],
   "source": [
    "l[3][0:2]"
   ]
  },
  {
   "cell_type": "code",
   "execution_count": 46,
   "id": "e31bbf50-7be3-43cd-bc74-847fb2abe912",
   "metadata": {},
   "outputs": [
    {
     "data": {
      "text/plain": [
       "'Tr'"
      ]
     },
     "execution_count": 46,
     "metadata": {},
     "output_type": "execute_result"
    }
   ],
   "source": [
    "str(l[4])[0:2]\n",
    "\n"
   ]
  },
  {
   "cell_type": "code",
   "execution_count": 47,
   "id": "3813c301-1114-4126-972c-0669da010ea9",
   "metadata": {},
   "outputs": [
    {
     "data": {
      "text/plain": [
       "'True'"
      ]
     },
     "execution_count": 47,
     "metadata": {},
     "output_type": "execute_result"
    }
   ],
   "source": [
    "str(l[4])"
   ]
  },
  {
   "cell_type": "code",
   "execution_count": 50,
   "id": "6ab34e2a-30b3-4fa4-a641-3ec55a3dbf2a",
   "metadata": {},
   "outputs": [
    {
     "data": {
      "text/plain": [
       "'Tr'"
      ]
     },
     "execution_count": 50,
     "metadata": {},
     "output_type": "execute_result"
    }
   ],
   "source": [
    "str(l[4])[0:2]"
   ]
  },
  {
   "cell_type": "code",
   "execution_count": 51,
   "id": "00bfad3a-3071-4388-883b-78a27ec4885e",
   "metadata": {},
   "outputs": [],
   "source": [
    "l1 = [3,4,5]"
   ]
  },
  {
   "cell_type": "code",
   "execution_count": 52,
   "id": "1a15c58b-1baa-44c2-ac04-18a60f970b81",
   "metadata": {},
   "outputs": [
    {
     "data": {
      "text/plain": [
       "[1, 345, 45, 'attri', True, (5+7j), 345.456, 3, 4, 5]"
      ]
     },
     "execution_count": 52,
     "metadata": {},
     "output_type": "execute_result"
    }
   ],
   "source": [
    "l+l1"
   ]
  },
  {
   "cell_type": "code",
   "execution_count": 53,
   "id": "b735014d-4d43-41c2-9bf0-99d0608c7e8b",
   "metadata": {},
   "outputs": [
    {
     "data": {
      "text/plain": [
       "[3, 4, 5, 3, 4, 5, 3, 4, 5]"
      ]
     },
     "execution_count": 53,
     "metadata": {},
     "output_type": "execute_result"
    }
   ],
   "source": [
    "l1*3\n",
    "\n"
   ]
  },
  {
   "cell_type": "code",
   "execution_count": 55,
   "id": "a5cbf861-bc3d-40b8-bb94-25eac15616da",
   "metadata": {},
   "outputs": [
    {
     "data": {
      "text/plain": [
       "7"
      ]
     },
     "execution_count": 55,
     "metadata": {},
     "output_type": "execute_result"
    }
   ],
   "source": [
    "len(l)\n"
   ]
  },
  {
   "cell_type": "code",
   "execution_count": 56,
   "id": "b7154fb1-919d-4af9-875c-0c3b7b796aec",
   "metadata": {},
   "outputs": [
    {
     "data": {
      "text/plain": [
       "3"
      ]
     },
     "execution_count": 56,
     "metadata": {},
     "output_type": "execute_result"
    }
   ],
   "source": [
    "len(l1)"
   ]
  },
  {
   "cell_type": "code",
   "execution_count": 57,
   "id": "31aacab1-c750-4d8d-9b2b-92639a9494e8",
   "metadata": {},
   "outputs": [
    {
     "data": {
      "text/plain": [
       "[1, 345, 45, 'attri', True, (5+7j), 345.456]"
      ]
     },
     "execution_count": 57,
     "metadata": {},
     "output_type": "execute_result"
    }
   ],
   "source": [
    "l"
   ]
  },
  {
   "cell_type": "code",
   "execution_count": 58,
   "id": "a677418c-858b-40a4-bf76-cabc6323bf08",
   "metadata": {},
   "outputs": [],
   "source": [
    "l.append(5)"
   ]
  },
  {
   "cell_type": "code",
   "execution_count": 59,
   "id": "fe494d81-948c-43c3-9513-102ee97883fd",
   "metadata": {},
   "outputs": [
    {
     "data": {
      "text/plain": [
       "[1, 345, 45, 'attri', True, (5+7j), 345.456, 5]"
      ]
     },
     "execution_count": 59,
     "metadata": {},
     "output_type": "execute_result"
    }
   ],
   "source": [
    "l"
   ]
  },
  {
   "cell_type": "code",
   "execution_count": 60,
   "id": "34965a0c-bcb1-460f-ab9e-27e5bee8313e",
   "metadata": {},
   "outputs": [],
   "source": [
    "l.append(69)"
   ]
  },
  {
   "cell_type": "code",
   "execution_count": 61,
   "id": "2db2603e-7503-4f3d-a70c-fa47fb4a6e3e",
   "metadata": {},
   "outputs": [
    {
     "data": {
      "text/plain": [
       "[1, 345, 45, 'attri', True, (5+7j), 345.456, 5, 69]"
      ]
     },
     "execution_count": 61,
     "metadata": {},
     "output_type": "execute_result"
    }
   ],
   "source": [
    "l"
   ]
  },
  {
   "cell_type": "code",
   "execution_count": 62,
   "id": "9286cd61-2806-4e87-83b0-2c072af98e95",
   "metadata": {},
   "outputs": [
    {
     "data": {
      "text/plain": [
       "'pwskills'"
      ]
     },
     "execution_count": 62,
     "metadata": {},
     "output_type": "execute_result"
    }
   ],
   "source": [
    "s"
   ]
  },
  {
   "cell_type": "code",
   "execution_count": 64,
   "id": "43212276-795f-4f28-bbda-5465937b97a9",
   "metadata": {},
   "outputs": [],
   "source": [
    "l.append(s)"
   ]
  },
  {
   "cell_type": "code",
   "execution_count": 65,
   "id": "b90026c1-445b-4b85-a745-232a47b7aff9",
   "metadata": {},
   "outputs": [
    {
     "data": {
      "text/plain": [
       "[1, 345, 45, 'attri', True, (5+7j), 345.456, 5, 69, 'pwskills']"
      ]
     },
     "execution_count": 65,
     "metadata": {},
     "output_type": "execute_result"
    }
   ],
   "source": [
    "l"
   ]
  },
  {
   "cell_type": "code",
   "execution_count": 66,
   "id": "b1cd616d-93bd-4cbe-903d-e7e89998d0e6",
   "metadata": {},
   "outputs": [
    {
     "data": {
      "text/plain": [
       "[3, 4, 5]"
      ]
     },
     "execution_count": 66,
     "metadata": {},
     "output_type": "execute_result"
    }
   ],
   "source": [
    "l1\n",
    "\n"
   ]
  },
  {
   "cell_type": "code",
   "execution_count": 67,
   "id": "8e2d8bf5-6d66-4705-ada2-32bc91448809",
   "metadata": {},
   "outputs": [],
   "source": [
    "l.append(l1)"
   ]
  },
  {
   "cell_type": "code",
   "execution_count": 68,
   "id": "42b657f5-4d39-431e-9cdc-110023850400",
   "metadata": {},
   "outputs": [
    {
     "data": {
      "text/plain": [
       "[1, 345, 45, 'attri', True, (5+7j), 345.456, 5, 69, 'pwskills', [3, 4, 5]]"
      ]
     },
     "execution_count": 68,
     "metadata": {},
     "output_type": "execute_result"
    }
   ],
   "source": [
    "l"
   ]
  },
  {
   "cell_type": "code",
   "execution_count": 70,
   "id": "fc16e818-d6bd-4a3a-a12d-f36e76434060",
   "metadata": {},
   "outputs": [
    {
     "data": {
      "text/plain": [
       "4"
      ]
     },
     "execution_count": 70,
     "metadata": {},
     "output_type": "execute_result"
    }
   ],
   "source": [
    "l[-1][1]"
   ]
  },
  {
   "cell_type": "code",
   "execution_count": 73,
   "id": "4864b927-00e8-435c-bb6b-6608d54004c0",
   "metadata": {},
   "outputs": [
    {
     "data": {
      "text/plain": [
       "'k'"
      ]
     },
     "execution_count": 73,
     "metadata": {},
     "output_type": "execute_result"
    }
   ],
   "source": [
    "l[-2][3]"
   ]
  },
  {
   "cell_type": "code",
   "execution_count": 74,
   "id": "b13346d4-8081-4e83-b3ad-5b284eaff924",
   "metadata": {},
   "outputs": [
    {
     "data": {
      "text/plain": [
       "[1, 345, 45, 'attri', True, (5+7j), 345.456, 5, 69, 'pwskills', [3, 4, 5]]"
      ]
     },
     "execution_count": 74,
     "metadata": {},
     "output_type": "execute_result"
    }
   ],
   "source": [
    "l"
   ]
  },
  {
   "cell_type": "code",
   "execution_count": 75,
   "id": "b42ca098-dfcf-4d8c-b0ae-3c6f50637f51",
   "metadata": {},
   "outputs": [
    {
     "ename": "TypeError",
     "evalue": "'int' object is not iterable",
     "output_type": "error",
     "traceback": [
      "\u001b[0;31m---------------------------------------------------------------------------\u001b[0m",
      "\u001b[0;31mTypeError\u001b[0m                                 Traceback (most recent call last)",
      "Cell \u001b[0;32mIn[75], line 1\u001b[0m\n\u001b[0;32m----> 1\u001b[0m \u001b[43ml\u001b[49m\u001b[38;5;241;43m.\u001b[39;49m\u001b[43mextend\u001b[49m\u001b[43m(\u001b[49m\u001b[38;5;241;43m4\u001b[39;49m\u001b[43m)\u001b[49m\n",
      "\u001b[0;31mTypeError\u001b[0m: 'int' object is not iterable"
     ]
    }
   ],
   "source": [
    "l.extend(4)"
   ]
  },
  {
   "cell_type": "code",
   "execution_count": 77,
   "id": "5b10b0f2-b41e-48db-bd35-e42237fd7f23",
   "metadata": {},
   "outputs": [],
   "source": [
    "l.extend(\"attri\")\n"
   ]
  },
  {
   "cell_type": "code",
   "execution_count": 78,
   "id": "e0df016f-a123-4834-84e5-986d673168f2",
   "metadata": {},
   "outputs": [
    {
     "data": {
      "text/plain": [
       "[1,\n",
       " 345,\n",
       " 45,\n",
       " 'attri',\n",
       " True,\n",
       " (5+7j),\n",
       " 345.456,\n",
       " 5,\n",
       " 69,\n",
       " 'pwskills',\n",
       " [3, 4, 5],\n",
       " 'a',\n",
       " 't',\n",
       " 't',\n",
       " 'r',\n",
       " 'i']"
      ]
     },
     "execution_count": 78,
     "metadata": {},
     "output_type": "execute_result"
    }
   ],
   "source": [
    "l"
   ]
  },
  {
   "cell_type": "code",
   "execution_count": 79,
   "id": "9700907d-d79b-4378-9753-d354c33b479f",
   "metadata": {},
   "outputs": [
    {
     "data": {
      "text/plain": [
       "[1,\n",
       " 345,\n",
       " 45,\n",
       " 'attri',\n",
       " True,\n",
       " (5+7j),\n",
       " 345.456,\n",
       " 5,\n",
       " 69,\n",
       " 'pwskills',\n",
       " [3, 4, 5],\n",
       " 'a',\n",
       " 't',\n",
       " 't',\n",
       " 'r',\n",
       " 'i']"
      ]
     },
     "execution_count": 79,
     "metadata": {},
     "output_type": "execute_result"
    }
   ],
   "source": [
    "l"
   ]
  },
  {
   "cell_type": "code",
   "execution_count": 81,
   "id": "4e17ba3b-344a-4580-824f-42752413c599",
   "metadata": {},
   "outputs": [],
   "source": [
    "l.extend([3,4,5])\n",
    "\n"
   ]
  },
  {
   "cell_type": "code",
   "execution_count": 82,
   "id": "e3f9ca26-9b14-4c3d-988f-c2b4079fd378",
   "metadata": {},
   "outputs": [
    {
     "data": {
      "text/plain": [
       "[1,\n",
       " 345,\n",
       " 45,\n",
       " 'attri',\n",
       " True,\n",
       " (5+7j),\n",
       " 345.456,\n",
       " 5,\n",
       " 69,\n",
       " 'pwskills',\n",
       " [3, 4, 5],\n",
       " 'a',\n",
       " 't',\n",
       " 't',\n",
       " 'r',\n",
       " 'i',\n",
       " 3,\n",
       " 4,\n",
       " 5]"
      ]
     },
     "execution_count": 82,
     "metadata": {},
     "output_type": "execute_result"
    }
   ],
   "source": [
    "l"
   ]
  },
  {
   "cell_type": "code",
   "execution_count": 83,
   "id": "75d70e58-d905-4997-a5d7-d2cf1b5cb2e0",
   "metadata": {},
   "outputs": [
    {
     "data": {
      "text/plain": [
       "[3, 4, 5]"
      ]
     },
     "execution_count": 83,
     "metadata": {},
     "output_type": "execute_result"
    }
   ],
   "source": [
    "l1\n"
   ]
  },
  {
   "cell_type": "code",
   "execution_count": 84,
   "id": "1d761a7d-ded2-4559-9b7d-13ab01452094",
   "metadata": {},
   "outputs": [],
   "source": [
    "l1.insert(1,\"anurag\")"
   ]
  },
  {
   "cell_type": "code",
   "execution_count": 4,
   "id": "4f270548-205a-4406-b329-704eeca7c1e0",
   "metadata": {},
   "outputs": [],
   "source": [
    "l1 =[3,4,5]"
   ]
  },
  {
   "cell_type": "code",
   "execution_count": 7,
   "id": "e718770f-9b86-4313-8046-4e6f5d5651b4",
   "metadata": {},
   "outputs": [],
   "source": [
    "\n",
    "l1 = [3,4,5]\n"
   ]
  },
  {
   "cell_type": "code",
   "execution_count": 8,
   "id": "0f0cdf52-e76d-4520-b4f8-8b0cee251658",
   "metadata": {},
   "outputs": [],
   "source": [
    "l1.insert(0,\"attri\")\n"
   ]
  },
  {
   "cell_type": "code",
   "execution_count": 9,
   "id": "892b6482-11ac-4604-8f6a-286afd8fd7a2",
   "metadata": {},
   "outputs": [
    {
     "data": {
      "text/plain": [
       "['attri', 3, 4, 5]"
      ]
     },
     "execution_count": 9,
     "metadata": {},
     "output_type": "execute_result"
    }
   ],
   "source": [
    "l1"
   ]
  },
  {
   "cell_type": "code",
   "execution_count": 10,
   "id": "d527bda5-fe60-4df8-a4f4-2c666db40a1b",
   "metadata": {},
   "outputs": [],
   "source": [
    "l1.insert(2,[3,4,5])"
   ]
  },
  {
   "cell_type": "code",
   "execution_count": 11,
   "id": "949e63a8-489b-4421-adbe-b42e0611a2eb",
   "metadata": {},
   "outputs": [
    {
     "data": {
      "text/plain": [
       "['attri', 3, [3, 4, 5], 4, 5]"
      ]
     },
     "execution_count": 11,
     "metadata": {},
     "output_type": "execute_result"
    }
   ],
   "source": [
    "l1"
   ]
  },
  {
   "cell_type": "code",
   "execution_count": 12,
   "id": "599d082d-c10b-4f7e-a084-94b458f52154",
   "metadata": {},
   "outputs": [],
   "source": [
    "l1.insert(-1,45)"
   ]
  },
  {
   "cell_type": "code",
   "execution_count": 13,
   "id": "65366e43-a1cf-4201-a820-95248e94c4ad",
   "metadata": {},
   "outputs": [
    {
     "data": {
      "text/plain": [
       "['attri', 3, [3, 4, 5], 4, 45, 5]"
      ]
     },
     "execution_count": 13,
     "metadata": {},
     "output_type": "execute_result"
    }
   ],
   "source": [
    "l1"
   ]
  },
  {
   "cell_type": "code",
   "execution_count": 14,
   "id": "b3cd57ef-08f6-4f2e-841d-ddc9db1a9579",
   "metadata": {},
   "outputs": [],
   "source": [
    "l1.insert(0,34)"
   ]
  },
  {
   "cell_type": "code",
   "execution_count": 15,
   "id": "344e7a5f-be24-49cc-a9ff-06b947381e00",
   "metadata": {},
   "outputs": [
    {
     "data": {
      "text/plain": [
       "[34, 'attri', 3, [3, 4, 5], 4, 45, 5]"
      ]
     },
     "execution_count": 15,
     "metadata": {},
     "output_type": "execute_result"
    }
   ],
   "source": [
    "l1"
   ]
  },
  {
   "cell_type": "code",
   "execution_count": 16,
   "id": "49950ee7-a51d-4608-8923-6b002267afcc",
   "metadata": {},
   "outputs": [
    {
     "data": {
      "text/plain": [
       "5"
      ]
     },
     "execution_count": 16,
     "metadata": {},
     "output_type": "execute_result"
    }
   ],
   "source": [
    "l1.pop()"
   ]
  },
  {
   "cell_type": "code",
   "execution_count": 17,
   "id": "652561b9-ea29-41b1-a625-f0e9979515a0",
   "metadata": {},
   "outputs": [
    {
     "data": {
      "text/plain": [
       "[34, 'attri', 3, [3, 4, 5], 4, 45]"
      ]
     },
     "execution_count": 17,
     "metadata": {},
     "output_type": "execute_result"
    }
   ],
   "source": [
    "l1"
   ]
  },
  {
   "cell_type": "code",
   "execution_count": 19,
   "id": "4ee3e18b-43c7-40d8-8919-e5f2450d7f76",
   "metadata": {},
   "outputs": [
    {
     "data": {
      "text/plain": [
       "45"
      ]
     },
     "execution_count": 19,
     "metadata": {},
     "output_type": "execute_result"
    }
   ],
   "source": [
    "l1.pop()"
   ]
  },
  {
   "cell_type": "code",
   "execution_count": 20,
   "id": "66dcc32c-e2e7-43b3-b030-c6bf6fe24cce",
   "metadata": {},
   "outputs": [
    {
     "data": {
      "text/plain": [
       "[34, 'attri', 3, [3, 4, 5], 4]"
      ]
     },
     "execution_count": 20,
     "metadata": {},
     "output_type": "execute_result"
    }
   ],
   "source": [
    "l1"
   ]
  },
  {
   "cell_type": "code",
   "execution_count": 21,
   "id": "78068b45-6225-4458-b3bb-8991324cce51",
   "metadata": {},
   "outputs": [
    {
     "data": {
      "text/plain": [
       "3"
      ]
     },
     "execution_count": 21,
     "metadata": {},
     "output_type": "execute_result"
    }
   ],
   "source": [
    "l1.pop(2)"
   ]
  },
  {
   "cell_type": "code",
   "execution_count": 22,
   "id": "b24cc1f4-4829-4ed5-a7ae-a4033339126b",
   "metadata": {},
   "outputs": [
    {
     "data": {
      "text/plain": [
       "[34, 'attri', [3, 4, 5], 4]"
      ]
     },
     "execution_count": 22,
     "metadata": {},
     "output_type": "execute_result"
    }
   ],
   "source": [
    "l1"
   ]
  },
  {
   "cell_type": "code",
   "execution_count": 23,
   "id": "17340d51-9879-4ab0-ae7d-548c2a49b488",
   "metadata": {},
   "outputs": [
    {
     "data": {
      "text/plain": [
       "4"
      ]
     },
     "execution_count": 23,
     "metadata": {},
     "output_type": "execute_result"
    }
   ],
   "source": [
    "l1.pop(3)"
   ]
  },
  {
   "cell_type": "code",
   "execution_count": 24,
   "id": "72825a89-dee1-4c52-80df-a36eae2bfe21",
   "metadata": {},
   "outputs": [
    {
     "data": {
      "text/plain": [
       "[34, 'attri', [3, 4, 5]]"
      ]
     },
     "execution_count": 24,
     "metadata": {},
     "output_type": "execute_result"
    }
   ],
   "source": [
    "l1"
   ]
  },
  {
   "cell_type": "code",
   "execution_count": 6,
   "id": "b7c0151d-245f-4adc-b9c9-64220dbb40b9",
   "metadata": {},
   "outputs": [
    {
     "data": {
      "text/plain": [
       "[3, 4, 5]"
      ]
     },
     "execution_count": 6,
     "metadata": {},
     "output_type": "execute_result"
    }
   ],
   "source": [
    "l1"
   ]
  },
  {
   "cell_type": "code",
   "execution_count": 7,
   "id": "38ac7be8-7b00-419a-b315-9647e6ac9f9b",
   "metadata": {},
   "outputs": [],
   "source": [
    "l1.remove(3)"
   ]
  },
  {
   "cell_type": "code",
   "execution_count": 8,
   "id": "26c08790-3292-4a90-bd0b-5b4fd503290c",
   "metadata": {},
   "outputs": [
    {
     "data": {
      "text/plain": [
       "[4, 5]"
      ]
     },
     "execution_count": 8,
     "metadata": {},
     "output_type": "execute_result"
    }
   ],
   "source": [
    "l1"
   ]
  },
  {
   "cell_type": "code",
   "execution_count": 9,
   "id": "68e42927-334c-4967-8bec-3f01f87d3614",
   "metadata": {},
   "outputs": [
    {
     "ename": "ValueError",
     "evalue": "list.remove(x): x not in list",
     "output_type": "error",
     "traceback": [
      "\u001b[0;31m---------------------------------------------------------------------------\u001b[0m",
      "\u001b[0;31mValueError\u001b[0m                                Traceback (most recent call last)",
      "Cell \u001b[0;32mIn[9], line 1\u001b[0m\n\u001b[0;32m----> 1\u001b[0m \u001b[43ml1\u001b[49m\u001b[38;5;241;43m.\u001b[39;49m\u001b[43mremove\u001b[49m\u001b[43m(\u001b[49m\u001b[38;5;241;43m234\u001b[39;49m\u001b[43m)\u001b[49m\n",
      "\u001b[0;31mValueError\u001b[0m: list.remove(x): x not in list"
     ]
    }
   ],
   "source": [
    "l1.remove(234)"
   ]
  },
  {
   "cell_type": "code",
   "execution_count": 27,
   "id": "93ab03a1-899f-4d68-91fb-372b8e7eeffa",
   "metadata": {},
   "outputs": [
    {
     "data": {
      "text/plain": [
       "['attri', 3, [4, 5], 4, 5]"
      ]
     },
     "execution_count": 27,
     "metadata": {},
     "output_type": "execute_result"
    }
   ],
   "source": [
    "l1 "
   ]
  },
  {
   "cell_type": "code",
   "execution_count": 32,
   "id": "af44c56f-4b00-481b-bb56-9ea0b9b3a7fa",
   "metadata": {},
   "outputs": [],
   "source": [
    "l1 = [34, 'attri', 3, [3, 4, 5], 4, 45, 5]\n",
    "\n"
   ]
  },
  {
   "cell_type": "code",
   "execution_count": 33,
   "id": "2d22d439-0bee-47e1-82d9-1c546c4b472f",
   "metadata": {},
   "outputs": [
    {
     "data": {
      "text/plain": [
       "[34, 'attri', 3, [3, 4, 5], 4, 45, 5]"
      ]
     },
     "execution_count": 33,
     "metadata": {},
     "output_type": "execute_result"
    }
   ],
   "source": [
    "l1\n"
   ]
  },
  {
   "cell_type": "code",
   "execution_count": 36,
   "id": "5c5cd7ff-a0c8-4517-b291-f9e5b5fec9d5",
   "metadata": {},
   "outputs": [],
   "source": [
    "l1[3].remove(3)"
   ]
  },
  {
   "cell_type": "code",
   "execution_count": 37,
   "id": "987410f8-616a-46bf-aa5e-b464841c4a7b",
   "metadata": {},
   "outputs": [
    {
     "data": {
      "text/plain": [
       "[34, 'attri', 3, [4, 5], 4, 45, 5]"
      ]
     },
     "execution_count": 37,
     "metadata": {},
     "output_type": "execute_result"
    }
   ],
   "source": [
    "l1\n"
   ]
  },
  {
   "cell_type": "code",
   "execution_count": null,
   "id": "19210d99-bcd4-4da0-8f18-a00231974d2c",
   "metadata": {},
   "outputs": [
    {
     "data": {
      "text/plain": [
       "'attri'"
      ]
     },
     "execution_count": 38,
     "metadata": {},
     "output_type": "execute_result"
    }
   ],
   "source": [
    "l1[1]"
   ]
  },
  {
   "cell_type": "code",
   "execution_count": 39,
   "id": "fbc68457-d687-4d13-8a32-d958f05e4f3d",
   "metadata": {},
   "outputs": [
    {
     "data": {
      "text/plain": [
       "[34, 'attri', 3, [4, 5], 4, 45, 5]"
      ]
     },
     "execution_count": 39,
     "metadata": {},
     "output_type": "execute_result"
    }
   ],
   "source": [
    "l1"
   ]
  },
  {
   "cell_type": "code",
   "execution_count": 40,
   "id": "b3c8a30d-bf6d-4bf3-a22e-cae542818fd7",
   "metadata": {},
   "outputs": [],
   "source": [
    "l1.remove(4)"
   ]
  },
  {
   "cell_type": "code",
   "execution_count": 41,
   "id": "cb585f44-1a6f-4a3c-beef-26fac23b41f7",
   "metadata": {},
   "outputs": [
    {
     "data": {
      "text/plain": [
       "[34, 'attri', 3, [4, 5], 45, 5]"
      ]
     },
     "execution_count": 41,
     "metadata": {},
     "output_type": "execute_result"
    }
   ],
   "source": [
    "l1"
   ]
  },
  {
   "cell_type": "code",
   "execution_count": 45,
   "id": "2d301a1e-341d-4f08-95e9-9462f68ced22",
   "metadata": {},
   "outputs": [],
   "source": [
    "l1.reverse()\n"
   ]
  },
  {
   "cell_type": "code",
   "execution_count": 46,
   "id": "1df3ab45-418b-4f92-9e1e-124aeb64d2f6",
   "metadata": {},
   "outputs": [
    {
     "data": {
      "text/plain": [
       "[34, 'attri', 3, [4, 5], 45, 5]"
      ]
     },
     "execution_count": 46,
     "metadata": {},
     "output_type": "execute_result"
    }
   ],
   "source": [
    "l1"
   ]
  },
  {
   "cell_type": "code",
   "execution_count": 49,
   "id": "8caf6bd7-8928-41d4-b239-b6cbf31ba852",
   "metadata": {},
   "outputs": [],
   "source": [
    "l1=l1[::-1]"
   ]
  },
  {
   "cell_type": "code",
   "execution_count": 50,
   "id": "55d891aa-2dfa-4666-be5a-f5b4c6cd5f3a",
   "metadata": {},
   "outputs": [
    {
     "data": {
      "text/plain": [
       "[5, 45, [4, 5], 3, 'attri', 34]"
      ]
     },
     "execution_count": 50,
     "metadata": {},
     "output_type": "execute_result"
    }
   ],
   "source": [
    "l1"
   ]
  },
  {
   "cell_type": "code",
   "execution_count": 51,
   "id": "1df29b95-c55a-4878-9697-a6e3cc8e4e23",
   "metadata": {},
   "outputs": [
    {
     "data": {
      "text/plain": [
       "[5, 45, [4, 5], 3, 'attri', 34]"
      ]
     },
     "execution_count": 51,
     "metadata": {},
     "output_type": "execute_result"
    }
   ],
   "source": [
    "l1\n"
   ]
  },
  {
   "cell_type": "code",
   "execution_count": 52,
   "id": "7cc6bde0-3e22-4626-8853-5ee5a4122d23",
   "metadata": {},
   "outputs": [
    {
     "ename": "TypeError",
     "evalue": "'<' not supported between instances of 'list' and 'int'",
     "output_type": "error",
     "traceback": [
      "\u001b[0;31m---------------------------------------------------------------------------\u001b[0m",
      "\u001b[0;31mTypeError\u001b[0m                                 Traceback (most recent call last)",
      "Cell \u001b[0;32mIn[52], line 1\u001b[0m\n\u001b[0;32m----> 1\u001b[0m \u001b[43ml1\u001b[49m\u001b[38;5;241;43m.\u001b[39;49m\u001b[43msort\u001b[49m\u001b[43m(\u001b[49m\u001b[43m)\u001b[49m\n",
      "\u001b[0;31mTypeError\u001b[0m: '<' not supported between instances of 'list' and 'int'"
     ]
    }
   ],
   "source": [
    "l1.sort()\n",
    "\n"
   ]
  },
  {
   "cell_type": "code",
   "execution_count": 59,
   "id": "a22d73ab-d649-4186-83a6-c0dc75787da9",
   "metadata": {},
   "outputs": [],
   "source": [
    "l2=[23,45,67,83,4,5,6,7,8,9]"
   ]
  },
  {
   "cell_type": "code",
   "execution_count": 60,
   "id": "69803029-9820-4a60-a4a4-945e51cc161b",
   "metadata": {},
   "outputs": [],
   "source": [
    "l2.sort()\n"
   ]
  },
  {
   "cell_type": "code",
   "execution_count": 61,
   "id": "595868e6-4ff0-4203-bfb7-fe9c9bd15813",
   "metadata": {},
   "outputs": [
    {
     "data": {
      "text/plain": [
       "[4, 5, 6, 7, 8, 9, 23, 45, 67, 83]"
      ]
     },
     "execution_count": 61,
     "metadata": {},
     "output_type": "execute_result"
    }
   ],
   "source": [
    "l2"
   ]
  },
  {
   "cell_type": "code",
   "execution_count": 65,
   "id": "4c4d8202-1215-4454-af70-fe5bacca6a19",
   "metadata": {},
   "outputs": [],
   "source": [
    "l4=[\"attri\",\"kumar\",\"data science\",\"pwskills\"]\n",
    "   "
   ]
  },
  {
   "cell_type": "code",
   "execution_count": 66,
   "id": "cd3c37b3-9608-482e-b982-58d9aea95d4d",
   "metadata": {},
   "outputs": [],
   "source": [
    "l4.sort()\n"
   ]
  },
  {
   "cell_type": "code",
   "execution_count": 67,
   "id": "c385ffec-02af-4840-90f1-90a86b75f70b",
   "metadata": {},
   "outputs": [
    {
     "data": {
      "text/plain": [
       "['attri', 'data science', 'kumar', 'pwskills']"
      ]
     },
     "execution_count": 67,
     "metadata": {},
     "output_type": "execute_result"
    }
   ],
   "source": [
    "l4"
   ]
  },
  {
   "cell_type": "code",
   "execution_count": 68,
   "id": "f28a00fe-16ad-4f23-962b-4f3bb384c389",
   "metadata": {},
   "outputs": [
    {
     "data": {
      "text/plain": [
       "0"
      ]
     },
     "execution_count": 68,
     "metadata": {},
     "output_type": "execute_result"
    }
   ],
   "source": [
    "l4.index(\"attri\")"
   ]
  },
  {
   "cell_type": "code",
   "execution_count": 69,
   "id": "642cc78c-9c77-46b0-a825-879180ff6e68",
   "metadata": {},
   "outputs": [
    {
     "data": {
      "text/plain": [
       "1"
      ]
     },
     "execution_count": 69,
     "metadata": {},
     "output_type": "execute_result"
    }
   ],
   "source": [
    "l4.count(\"attri\")\n"
   ]
  },
  {
   "cell_type": "code",
   "execution_count": 70,
   "id": "8348312c-0aad-4377-8d39-23fdd4569fa5",
   "metadata": {},
   "outputs": [
    {
     "data": {
      "text/plain": [
       "2"
      ]
     },
     "execution_count": 70,
     "metadata": {},
     "output_type": "execute_result"
    }
   ],
   "source": [
    "l4.index(\"kumar\")"
   ]
  },
  {
   "cell_type": "code",
   "execution_count": 71,
   "id": "b2ac72d1-e9c7-43d4-8690-b2576fee637e",
   "metadata": {},
   "outputs": [],
   "source": [
    "s = \"attri\""
   ]
  },
  {
   "cell_type": "code",
   "execution_count": 72,
   "id": "3a4433c7-9a74-4854-91fd-6cf80e2a002a",
   "metadata": {},
   "outputs": [],
   "source": [
    "l5 = [3,4,5,6]"
   ]
  },
  {
   "cell_type": "code",
   "execution_count": 75,
   "id": "c22a17d2-4711-4227-b8c3-c56cca91499c",
   "metadata": {},
   "outputs": [
    {
     "data": {
      "text/plain": [
       "'a'"
      ]
     },
     "execution_count": 75,
     "metadata": {},
     "output_type": "execute_result"
    }
   ],
   "source": [
    "s[0] "
   ]
  },
  {
   "cell_type": "code",
   "execution_count": 76,
   "id": "87ee43c1-3a61-4ce8-a513-83590fb08aa8",
   "metadata": {},
   "outputs": [],
   "source": [
    "l5[0] = 30"
   ]
  },
  {
   "cell_type": "code",
   "execution_count": 77,
   "id": "34efa537-2f32-4b6a-8630-f26077b77b29",
   "metadata": {},
   "outputs": [
    {
     "data": {
      "text/plain": [
       "[30, 4, 5, 6]"
      ]
     },
     "execution_count": 77,
     "metadata": {},
     "output_type": "execute_result"
    }
   ],
   "source": [
    "l5\n"
   ]
  },
  {
   "cell_type": "code",
   "execution_count": 78,
   "id": "f306e7f0-25ea-4724-af9e-e5e0be2b55b8",
   "metadata": {},
   "outputs": [],
   "source": [
    "l5[1] = 23\n"
   ]
  },
  {
   "cell_type": "code",
   "execution_count": 79,
   "id": "a6493576-37fb-421f-9318-52c20bc3c253",
   "metadata": {},
   "outputs": [
    {
     "data": {
      "text/plain": [
       "[30, 23, 5, 6]"
      ]
     },
     "execution_count": 79,
     "metadata": {},
     "output_type": "execute_result"
    }
   ],
   "source": [
    "l5"
   ]
  },
  {
   "cell_type": "code",
   "execution_count": 83,
   "id": "06e0e275-878a-4027-b60b-4bf1cc4a823d",
   "metadata": {},
   "outputs": [],
   "source": [
    "a = \"attri\""
   ]
  },
  {
   "cell_type": "code",
   "execution_count": 84,
   "id": "9e529f74-81d4-412c-93c7-40ec45e7d5b2",
   "metadata": {},
   "outputs": [
    {
     "data": {
      "text/plain": [
       "'sttri'"
      ]
     },
     "execution_count": 84,
     "metadata": {},
     "output_type": "execute_result"
    }
   ],
   "source": [
    "a.replace('a','s')\n"
   ]
  },
  {
   "cell_type": "code",
   "execution_count": 85,
   "id": "06d41221-d73f-42db-9cca-e1c80db0a576",
   "metadata": {},
   "outputs": [
    {
     "data": {
      "text/plain": [
       "'attri'"
      ]
     },
     "execution_count": 85,
     "metadata": {},
     "output_type": "execute_result"
    }
   ],
   "source": [
    "a"
   ]
  },
  {
   "cell_type": "code",
   "execution_count": 89,
   "id": "aa27aa10-8054-41f9-8d8c-563feba1b80c",
   "metadata": {},
   "outputs": [],
   "source": [
    "t = (2,3,4,5, \"attri\" , 45.56 , False , 45+567j , [3,4,5] )\n"
   ]
  },
  {
   "cell_type": "code",
   "execution_count": 91,
   "id": "ee484979-dca8-4125-840b-b94b1535dcce",
   "metadata": {},
   "outputs": [
    {
     "data": {
      "text/plain": [
       "(2, 3, 4, 5, 'attri', 45.56, False, (45+567j), [3, 4, 5])"
      ]
     },
     "execution_count": 91,
     "metadata": {},
     "output_type": "execute_result"
    }
   ],
   "source": [
    "t"
   ]
  },
  {
   "cell_type": "code",
   "execution_count": 92,
   "id": "9285e802-9669-4fb7-bb4c-f34007865240",
   "metadata": {},
   "outputs": [
    {
     "data": {
      "text/plain": [
       "tuple"
      ]
     },
     "execution_count": 92,
     "metadata": {},
     "output_type": "execute_result"
    }
   ],
   "source": [
    "type(t)"
   ]
  },
  {
   "cell_type": "code",
   "execution_count": 93,
   "id": "335d254f-11d9-40e2-b266-0824341dea6f",
   "metadata": {},
   "outputs": [
    {
     "data": {
      "text/plain": [
       "9"
      ]
     },
     "execution_count": 93,
     "metadata": {},
     "output_type": "execute_result"
    }
   ],
   "source": [
    "len(t)"
   ]
  },
  {
   "cell_type": "code",
   "execution_count": 94,
   "id": "1fba5aff-aac4-45ae-9db6-0c90d7eed57c",
   "metadata": {},
   "outputs": [
    {
     "data": {
      "text/plain": [
       "2"
      ]
     },
     "execution_count": 94,
     "metadata": {},
     "output_type": "execute_result"
    }
   ],
   "source": [
    "t[0]"
   ]
  },
  {
   "cell_type": "code",
   "execution_count": 95,
   "id": "84e7c431-7866-4b26-9d88-3f9df416cedf",
   "metadata": {},
   "outputs": [
    {
     "data": {
      "text/plain": [
       "[3, 4, 5]"
      ]
     },
     "execution_count": 95,
     "metadata": {},
     "output_type": "execute_result"
    }
   ],
   "source": [
    "t[-1]"
   ]
  },
  {
   "cell_type": "code",
   "execution_count": 96,
   "id": "1aa9860e-09f5-463b-828b-af34e4e4f31f",
   "metadata": {},
   "outputs": [
    {
     "data": {
      "text/plain": [
       "([3, 4, 5], (45+567j), False, 45.56, 'attri', 5, 4, 3, 2)"
      ]
     },
     "execution_count": 96,
     "metadata": {},
     "output_type": "execute_result"
    }
   ],
   "source": [
    "t[::-1]"
   ]
  },
  {
   "cell_type": "code",
   "execution_count": 99,
   "id": "2b02c814-abae-4380-ae81-7c2fe3ee4fb3",
   "metadata": {},
   "outputs": [
    {
     "data": {
      "text/plain": [
       "['attri', 'data science', 'kumar', 'pwskills']"
      ]
     },
     "execution_count": 99,
     "metadata": {},
     "output_type": "execute_result"
    }
   ],
   "source": [
    "l4"
   ]
  },
  {
   "cell_type": "code",
   "execution_count": 101,
   "id": "e602b977-778d-4a07-ad0a-e9134531b580",
   "metadata": {},
   "outputs": [],
   "source": [
    "l4[0] = 23424"
   ]
  },
  {
   "cell_type": "code",
   "execution_count": 102,
   "id": "222c1fb2-1e1e-46a3-878c-32816808aaf2",
   "metadata": {},
   "outputs": [
    {
     "data": {
      "text/plain": [
       "[23424, 'data science', 'kumar', 'pwskills']"
      ]
     },
     "execution_count": 102,
     "metadata": {},
     "output_type": "execute_result"
    }
   ],
   "source": [
    "l4"
   ]
  },
  {
   "cell_type": "code",
   "execution_count": 103,
   "id": "ed0de8b2-1a29-4f2c-8df7-c7bbe33cf4e1",
   "metadata": {},
   "outputs": [
    {
     "data": {
      "text/plain": [
       "(2, 3, 4, 5, 'attri', 45.56, False, (45+567j), [3, 4, 5])"
      ]
     },
     "execution_count": 103,
     "metadata": {},
     "output_type": "execute_result"
    }
   ],
   "source": [
    "t"
   ]
  },
  {
   "cell_type": "code",
   "execution_count": 105,
   "id": "c474a2c9-90b7-40f4-896d-52e894c496a1",
   "metadata": {},
   "outputs": [
    {
     "ename": "TypeError",
     "evalue": "'tuple' object does not support item assignment",
     "output_type": "error",
     "traceback": [
      "\u001b[0;31m---------------------------------------------------------------------------\u001b[0m",
      "\u001b[0;31mTypeError\u001b[0m                                 Traceback (most recent call last)",
      "Cell \u001b[0;32mIn[105], line 1\u001b[0m\n\u001b[0;32m----> 1\u001b[0m \u001b[43mt\u001b[49m\u001b[43m[\u001b[49m\u001b[38;5;241;43m0\u001b[39;49m\u001b[43m]\u001b[49m \u001b[38;5;241m=\u001b[39m \u001b[38;5;124m\"\u001b[39m\u001b[38;5;124mattri\u001b[39m\u001b[38;5;124m\"\u001b[39m\n",
      "\u001b[0;31mTypeError\u001b[0m: 'tuple' object does not support item assignment"
     ]
    }
   ],
   "source": [
    "t[0] = \"attri\""
   ]
  },
  {
   "cell_type": "code",
   "execution_count": 106,
   "id": "076eab87-76c3-4c64-aee8-852fe27353ee",
   "metadata": {},
   "outputs": [
    {
     "data": {
      "text/plain": [
       "([3, 4, 5], (45+567j), False, 45.56, 'attri', 5, 4, 3, 2)"
      ]
     },
     "execution_count": 106,
     "metadata": {},
     "output_type": "execute_result"
    }
   ],
   "source": [
    "t[::-1]"
   ]
  },
  {
   "cell_type": "code",
   "execution_count": 108,
   "id": "eed36a77-ac2a-4e28-96c3-671a8222bd5e",
   "metadata": {},
   "outputs": [
    {
     "data": {
      "text/plain": [
       "1"
      ]
     },
     "execution_count": 108,
     "metadata": {},
     "output_type": "execute_result"
    }
   ],
   "source": [
    "t.count(5)"
   ]
  },
  {
   "cell_type": "code",
   "execution_count": 109,
   "id": "93d769c4-817c-4744-abb8-b500dd7ca029",
   "metadata": {},
   "outputs": [
    {
     "data": {
      "text/plain": [
       "3"
      ]
     },
     "execution_count": 109,
     "metadata": {},
     "output_type": "execute_result"
    }
   ],
   "source": [
    "t.index(5)"
   ]
  },
  {
   "cell_type": "code",
   "execution_count": 110,
   "id": "19db68ec-d814-49c8-aacc-97f1ec44281c",
   "metadata": {},
   "outputs": [
    {
     "data": {
      "text/plain": [
       "6"
      ]
     },
     "execution_count": 110,
     "metadata": {},
     "output_type": "execute_result"
    }
   ],
   "source": [
    "t.index(False)"
   ]
  },
  {
   "cell_type": "code",
   "execution_count": 111,
   "id": "a9de92cf-2bc9-43bd-bf7b-d18d22a3af31",
   "metadata": {},
   "outputs": [],
   "source": [
    "s1 = {}"
   ]
  },
  {
   "cell_type": "code",
   "execution_count": 112,
   "id": "2333ff80-aa64-4ca9-8636-162586f79671",
   "metadata": {},
   "outputs": [
    {
     "data": {
      "text/plain": [
       "dict"
      ]
     },
     "execution_count": 112,
     "metadata": {},
     "output_type": "execute_result"
    }
   ],
   "source": [
    "type(s1)"
   ]
  },
  {
   "cell_type": "code",
   "execution_count": 113,
   "id": "d604a385-bd0a-4089-86c1-7732a800f71f",
   "metadata": {},
   "outputs": [],
   "source": [
    "s2 = {2,3,4,55,6}"
   ]
  },
  {
   "cell_type": "code",
   "execution_count": 115,
   "id": "b0c9e1ee-e384-46c6-84ba-9ebd6063c427",
   "metadata": {},
   "outputs": [
    {
     "data": {
      "text/plain": [
       "set"
      ]
     },
     "execution_count": 115,
     "metadata": {},
     "output_type": "execute_result"
    }
   ],
   "source": [
    "type(s2)"
   ]
  },
  {
   "cell_type": "code",
   "execution_count": 116,
   "id": "018a2e34-6d0a-498d-85b7-a785503b3a09",
   "metadata": {},
   "outputs": [],
   "source": [
    "s3 ={324,456,\"attri\",34.56,(3,4,5)}"
   ]
  },
  {
   "cell_type": "code",
   "execution_count": 117,
   "id": "022e6caa-f550-4c87-930d-88589604c349",
   "metadata": {},
   "outputs": [
    {
     "data": {
      "text/plain": [
       "{(3, 4, 5), 324, 34.56, 456, 'attri'}"
      ]
     },
     "execution_count": 117,
     "metadata": {},
     "output_type": "execute_result"
    }
   ],
   "source": [
    "s3"
   ]
  },
  {
   "cell_type": "code",
   "execution_count": 122,
   "id": "c9b5b223-dd94-4bdb-8a8a-f140a5aab78e",
   "metadata": {},
   "outputs": [],
   "source": [
    "s4 ={2,3,4,5,6,3,3,4,5,3,3,4,2,5,4,3,2,4,3,3,4,3,1,\"attri\",\"Attri\"}"
   ]
  },
  {
   "cell_type": "code",
   "execution_count": 123,
   "id": "afaf9987-4fd6-4f61-a13e-fa935e1d681b",
   "metadata": {},
   "outputs": [
    {
     "data": {
      "text/plain": [
       "{1, 2, 3, 4, 5, 6, 'Attri', 'attri'}"
      ]
     },
     "execution_count": 123,
     "metadata": {},
     "output_type": "execute_result"
    }
   ],
   "source": [
    "s4"
   ]
  },
  {
   "cell_type": "code",
   "execution_count": 126,
   "id": "5f5f3483-3412-4987-bbb6-746085607ae1",
   "metadata": {},
   "outputs": [],
   "source": [
    "l6 = [2,3,4,5,6,3,3,4,5,3,3,4,2,5,4,3,2,4,3,3,4,3,1,\"attri\",\"Attri\"]"
   ]
  },
  {
   "cell_type": "code",
   "execution_count": 129,
   "id": "59f27408-0f14-4bbd-bcd8-d6a1b81ff325",
   "metadata": {},
   "outputs": [
    {
     "data": {
      "text/plain": [
       "{1, 2, 3, 4, 5, 6, 'Attri', 'attri'}"
      ]
     },
     "execution_count": 129,
     "metadata": {},
     "output_type": "execute_result"
    }
   ],
   "source": [
    "set(l6)"
   ]
  },
  {
   "cell_type": "code",
   "execution_count": 130,
   "id": "1e7bcaa1-672b-4dc2-89d3-e968e28a748a",
   "metadata": {},
   "outputs": [],
   "source": [
    "l6 = list(set(l6))"
   ]
  },
  {
   "cell_type": "code",
   "execution_count": 131,
   "id": "edfe9419-4acd-471f-b104-bd7bd8e9a878",
   "metadata": {},
   "outputs": [
    {
     "data": {
      "text/plain": [
       "[1, 2, 3, 4, 5, 6, 'attri', 'Attri']"
      ]
     },
     "execution_count": 131,
     "metadata": {},
     "output_type": "execute_result"
    }
   ],
   "source": [
    "l6"
   ]
  },
  {
   "cell_type": "code",
   "execution_count": 132,
   "id": "7bcafb95-781c-451e-8a10-faca5510a0c6",
   "metadata": {},
   "outputs": [],
   "source": [
    "s5 = {234,45,23,16,567,2,789,\"abc\",456,332,23}"
   ]
  },
  {
   "cell_type": "code",
   "execution_count": 133,
   "id": "021192ee-fef5-4071-a96a-4d6e126df1a5",
   "metadata": {},
   "outputs": [
    {
     "data": {
      "text/plain": [
       "{16, 2, 23, 234, 332, 45, 456, 567, 789, 'abc'}"
      ]
     },
     "execution_count": 133,
     "metadata": {},
     "output_type": "execute_result"
    }
   ],
   "source": [
    "set(s5)"
   ]
  },
  {
   "cell_type": "code",
   "execution_count": 134,
   "id": "463d0412-c814-40ed-9fe6-844e18e1cce2",
   "metadata": {},
   "outputs": [
    {
     "ename": "TypeError",
     "evalue": "'set' object is not subscriptable",
     "output_type": "error",
     "traceback": [
      "\u001b[0;31m---------------------------------------------------------------------------\u001b[0m",
      "\u001b[0;31mTypeError\u001b[0m                                 Traceback (most recent call last)",
      "Cell \u001b[0;32mIn[134], line 1\u001b[0m\n\u001b[0;32m----> 1\u001b[0m \u001b[43ms5\u001b[49m\u001b[43m[\u001b[49m\u001b[38;5;241;43m0\u001b[39;49m\u001b[43m]\u001b[49m\n",
      "\u001b[0;31mTypeError\u001b[0m: 'set' object is not subscriptable"
     ]
    }
   ],
   "source": [
    "s5[0]\n"
   ]
  },
  {
   "cell_type": "code",
   "execution_count": 135,
   "id": "de12d22b-680a-45cc-9e80-abfbae8ce799",
   "metadata": {},
   "outputs": [
    {
     "ename": "TypeError",
     "evalue": "'set' object is not subscriptable",
     "output_type": "error",
     "traceback": [
      "\u001b[0;31m---------------------------------------------------------------------------\u001b[0m",
      "\u001b[0;31mTypeError\u001b[0m                                 Traceback (most recent call last)",
      "Cell \u001b[0;32mIn[135], line 1\u001b[0m\n\u001b[0;32m----> 1\u001b[0m \u001b[43ms5\u001b[49m\u001b[43m[\u001b[49m\u001b[43m:\u001b[49m\u001b[43m:\u001b[49m\u001b[38;5;241;43m-\u001b[39;49m\u001b[38;5;241;43m1\u001b[39;49m\u001b[43m]\u001b[49m\n",
      "\u001b[0;31mTypeError\u001b[0m: 'set' object is not subscriptable"
     ]
    }
   ],
   "source": [
    "s5[::-1]"
   ]
  },
  {
   "cell_type": "code",
   "execution_count": 137,
   "id": "cde747d4-35c3-4865-84dd-24f6707d5b9f",
   "metadata": {},
   "outputs": [],
   "source": [
    "s5.add(4)\n"
   ]
  },
  {
   "cell_type": "code",
   "execution_count": 138,
   "id": "5b005ab4-c18c-47d6-82e6-48eb4448e422",
   "metadata": {},
   "outputs": [
    {
     "data": {
      "text/plain": [
       "{16, 2, 23, 234, 332, 4, 45, 456, 567, 789, 'abc'}"
      ]
     },
     "execution_count": 138,
     "metadata": {},
     "output_type": "execute_result"
    }
   ],
   "source": [
    "s5"
   ]
  },
  {
   "cell_type": "code",
   "execution_count": 141,
   "id": "b720ba96-3aee-4777-9cb9-8b84b8b561cd",
   "metadata": {},
   "outputs": [],
   "source": [
    "s5.remove(23)"
   ]
  },
  {
   "cell_type": "code",
   "execution_count": 142,
   "id": "6d17609a-c2e1-47c7-af3d-c67860ebcef8",
   "metadata": {},
   "outputs": [
    {
     "data": {
      "text/plain": [
       "{16, 2, 234, 332, 45, 456, 567, 789, 'abc'}"
      ]
     },
     "execution_count": 142,
     "metadata": {},
     "output_type": "execute_result"
    }
   ],
   "source": [
    "s5"
   ]
  },
  {
   "cell_type": "code",
   "execution_count": 2,
   "id": "9b7f9d68-8f61-4b0c-8b7c-636f9f0d836f",
   "metadata": {},
   "outputs": [
    {
     "ename": "NameError",
     "evalue": "name 's5' is not defined",
     "output_type": "error",
     "traceback": [
      "\u001b[0;31m---------------------------------------------------------------------------\u001b[0m",
      "\u001b[0;31mNameError\u001b[0m                                 Traceback (most recent call last)",
      "Cell \u001b[0;32mIn[2], line 1\u001b[0m\n\u001b[0;32m----> 1\u001b[0m \u001b[43ms5\u001b[49m\n",
      "\u001b[0;31mNameError\u001b[0m: name 's5' is not defined"
     ]
    }
   ],
   "source": [
    "s5"
   ]
  },
  {
   "cell_type": "code",
   "execution_count": 3,
   "id": "aff0afc7-1500-43c4-8b5f-b3bc51ba3714",
   "metadata": {},
   "outputs": [],
   "source": [
    "d = {}"
   ]
  },
  {
   "cell_type": "code",
   "execution_count": 5,
   "id": "6561f8c4-dca7-4568-aaa9-e79c61dffcaa",
   "metadata": {},
   "outputs": [
    {
     "data": {
      "text/plain": [
       "dict"
      ]
     },
     "execution_count": 5,
     "metadata": {},
     "output_type": "execute_result"
    }
   ],
   "source": [
    "type(d)"
   ]
  },
  {
   "cell_type": "code",
   "execution_count": 9,
   "id": "c759acb8-1ee7-4f6a-b03d-d4a8519b68e7",
   "metadata": {},
   "outputs": [],
   "source": [
    "d1 = {'key' :\"attri\"}"
   ]
  },
  {
   "cell_type": "code",
   "execution_count": 10,
   "id": "16cb752d-10c7-436a-b601-7231caa1c1b7",
   "metadata": {},
   "outputs": [
    {
     "data": {
      "text/plain": [
       "{'key': 'attri'}"
      ]
     },
     "execution_count": 10,
     "metadata": {},
     "output_type": "execute_result"
    }
   ],
   "source": [
    "d1"
   ]
  },
  {
   "cell_type": "code",
   "execution_count": 11,
   "id": "a484bb1e-99d6-4d9e-ab27-4a51e57de4cd",
   "metadata": {},
   "outputs": [],
   "source": [
    "d2 = {'name' : \"anurag\" , \"email\" :\"aa@gmail.com\",\"number\":221321}"
   ]
  },
  {
   "cell_type": "code",
   "execution_count": 12,
   "id": "aa28035f-38d4-44fb-bd7f-7df976ef198a",
   "metadata": {},
   "outputs": [
    {
     "data": {
      "text/plain": [
       "{'name': 'anurag', 'email': 'aa@gmail.com', 'number': 221321}"
      ]
     },
     "execution_count": 12,
     "metadata": {},
     "output_type": "execute_result"
    }
   ],
   "source": [
    "d2"
   ]
  },
  {
   "cell_type": "code",
   "execution_count": 14,
   "id": "5ac6d1cc-9ace-4d13-a060-74e9a3246989",
   "metadata": {},
   "outputs": [],
   "source": [
    "d9 = {'surname':\"attri\", 'address':\"janta colony\"}"
   ]
  },
  {
   "cell_type": "code",
   "execution_count": 15,
   "id": "2b225cf6-2d94-4018-ad07-fd15fd6529d3",
   "metadata": {},
   "outputs": [
    {
     "data": {
      "text/plain": [
       "{'surname': 'attri', 'address': 'janta colony'}"
      ]
     },
     "execution_count": 15,
     "metadata": {},
     "output_type": "execute_result"
    }
   ],
   "source": [
    "d9"
   ]
  },
  {
   "cell_type": "code",
   "execution_count": 27,
   "id": "a481bab0-9732-4871-bc60-7a063d1fc7c1",
   "metadata": {},
   "outputs": [],
   "source": [
    "d3 = {234 : \"attri\", '@wer' : \"kumar\" , True:234234}"
   ]
  },
  {
   "cell_type": "code",
   "execution_count": 21,
   "id": "72cb4c8b-6200-4ff3-b1a2-c9160362b79a",
   "metadata": {},
   "outputs": [],
   "source": [
    "d4 = {'@wer': \"attri\", True : 24234}"
   ]
  },
  {
   "cell_type": "code",
   "execution_count": 22,
   "id": "4d9136bc-927e-4e3e-a626-c4a602007b39",
   "metadata": {},
   "outputs": [
    {
     "data": {
      "text/plain": [
       "{'@wer': 'attri', True: 24234}"
      ]
     },
     "execution_count": 22,
     "metadata": {},
     "output_type": "execute_result"
    }
   ],
   "source": [
    "d4"
   ]
  },
  {
   "cell_type": "code",
   "execution_count": 28,
   "id": "529cf0ef-b41d-469d-99b6-b64d45eb79cd",
   "metadata": {},
   "outputs": [
    {
     "data": {
      "text/plain": [
       "{234: 'attri', '@wer': 'kumar', True: 234234}"
      ]
     },
     "execution_count": 28,
     "metadata": {},
     "output_type": "execute_result"
    }
   ],
   "source": [
    "d3"
   ]
  },
  {
   "cell_type": "code",
   "execution_count": 29,
   "id": "afd19038-ba2b-4e76-82df-09533969a8d3",
   "metadata": {},
   "outputs": [
    {
     "data": {
      "text/plain": [
       "'attri'"
      ]
     },
     "execution_count": 29,
     "metadata": {},
     "output_type": "execute_result"
    }
   ],
   "source": [
    "d3[234]"
   ]
  },
  {
   "cell_type": "code",
   "execution_count": 30,
   "id": "741f20f8-7995-419c-86a1-ff6654c7997d",
   "metadata": {},
   "outputs": [
    {
     "data": {
      "text/plain": [
       "234234"
      ]
     },
     "execution_count": 30,
     "metadata": {},
     "output_type": "execute_result"
    }
   ],
   "source": [
    "d3[True]"
   ]
  },
  {
   "cell_type": "code",
   "execution_count": 31,
   "id": "6aedf678-eee1-4a34-b9e5-90468cc69518",
   "metadata": {},
   "outputs": [
    {
     "data": {
      "text/plain": [
       "234234"
      ]
     },
     "execution_count": 31,
     "metadata": {},
     "output_type": "execute_result"
    }
   ],
   "source": [
    "d3[1]"
   ]
  },
  {
   "cell_type": "code",
   "execution_count": 33,
   "id": "38005e36-90b3-4f60-861d-545fd2f3c625",
   "metadata": {},
   "outputs": [],
   "source": [
    "d5 = {'name' : \"attri\" , 'mail_id' : \"aa@gmail.com\" , \"name\":\"anurag\"}"
   ]
  },
  {
   "cell_type": "code",
   "execution_count": 34,
   "id": "cf022215-9fc3-4423-aaf2-6bd4c9018a48",
   "metadata": {},
   "outputs": [
    {
     "data": {
      "text/plain": [
       "'anurag'"
      ]
     },
     "execution_count": 34,
     "metadata": {},
     "output_type": "execute_result"
    }
   ],
   "source": [
    "d5['name']"
   ]
  },
  {
   "cell_type": "code",
   "execution_count": 35,
   "id": "4603a685-63e0-40ed-9859-f24c7fd96fdb",
   "metadata": {},
   "outputs": [],
   "source": [
    "d6 = {\"company\":\"pwskills\",\"course\" : [\"web dev\" , \"data science\", \"java with dsa system design\"]}"
   ]
  },
  {
   "cell_type": "code",
   "execution_count": 36,
   "id": "794d2108-51e6-4063-87e9-ed3be1b7012e",
   "metadata": {},
   "outputs": [
    {
     "data": {
      "text/plain": [
       "{'company': 'pwskills',\n",
       " 'course': ['web dev', 'data science', 'java with dsa system design']}"
      ]
     },
     "execution_count": 36,
     "metadata": {},
     "output_type": "execute_result"
    }
   ],
   "source": [
    "d6"
   ]
  },
  {
   "cell_type": "code",
   "execution_count": 37,
   "id": "1aebeda6-e7db-4296-b9d4-6da3aa97f300",
   "metadata": {},
   "outputs": [
    {
     "data": {
      "text/plain": [
       "['web dev', 'data science', 'java with dsa system design']"
      ]
     },
     "execution_count": 37,
     "metadata": {},
     "output_type": "execute_result"
    }
   ],
   "source": [
    "d6 ['course']"
   ]
  },
  {
   "cell_type": "code",
   "execution_count": 39,
   "id": "d10ebfa2-3f72-492f-bbf5-55281e829c5e",
   "metadata": {},
   "outputs": [
    {
     "data": {
      "text/plain": [
       "'java with dsa system design'"
      ]
     },
     "execution_count": 39,
     "metadata": {},
     "output_type": "execute_result"
    }
   ],
   "source": [
    "d6['course'][2]"
   ]
  },
  {
   "cell_type": "code",
   "execution_count": 40,
   "id": "d1816c0f-f787-4a8b-b15d-88d427785429",
   "metadata": {},
   "outputs": [
    {
     "data": {
      "text/plain": [
       "'data science'"
      ]
     },
     "execution_count": 40,
     "metadata": {},
     "output_type": "execute_result"
    }
   ],
   "source": [
    "d6['course'][1] "
   ]
  },
  {
   "cell_type": "code",
   "execution_count": 4,
   "id": "c34e7cb8-bab8-4c66-8772-220b3d9ecea1",
   "metadata": {},
   "outputs": [],
   "source": [
    "d7 = {\"number\" : [2,34,3,34,34] , \"assignment\" : (1,2,3,4,5,6),\"launch_date\":{28,12,14},\"class_time\":{\"web_dev\":8 , \"data science masters\":8 , \"java with dsa and system design\":7}}"
   ]
  },
  {
   "cell_type": "code",
   "execution_count": 7,
   "id": "322e5e56-7d52-43fd-b732-5e193f9dc09d",
   "metadata": {},
   "outputs": [
    {
     "data": {
      "text/plain": [
       "{'number': [2, 34, 3, 34, 34],\n",
       " 'assignment': (1, 2, 3, 4, 5, 6),\n",
       " 'launch_date': {12, 14, 28},\n",
       " 'class_time': {'web_dev': 8,\n",
       "  'data science masters': 8,\n",
       "  'java with dsa and system design': 7}}"
      ]
     },
     "execution_count": 7,
     "metadata": {},
     "output_type": "execute_result"
    }
   ],
   "source": [
    "d7"
   ]
  },
  {
   "cell_type": "code",
   "execution_count": 9,
   "id": "237169e7-27d3-4814-9032-966fe0b38e43",
   "metadata": {},
   "outputs": [
    {
     "data": {
      "text/plain": [
       "7"
      ]
     },
     "execution_count": 9,
     "metadata": {},
     "output_type": "execute_result"
    }
   ],
   "source": [
    "d7['class_time'][ 'java with dsa and system design']"
   ]
  },
  {
   "cell_type": "code",
   "execution_count": 14,
   "id": "809cb006-6fef-40a9-b6fe-a32b1dee8e0f",
   "metadata": {},
   "outputs": [],
   "source": [
    "d7['mentor'] = [\"sudhanshu\",\"krish\",\"anurag\",\"hayder\"]"
   ]
  },
  {
   "cell_type": "code",
   "execution_count": 15,
   "id": "9005e6e7-acb5-47de-8acc-2f97f64c454c",
   "metadata": {},
   "outputs": [
    {
     "data": {
      "text/plain": [
       "{'number': [2, 34, 3, 34, 34],\n",
       " 'assignment': (1, 2, 3, 4, 5, 6),\n",
       " 'launch_date': {12, 14, 28},\n",
       " 'class_time': {'web_dev': 8,\n",
       "  'data science masters': 8,\n",
       "  'java with dsa and system design': 7},\n",
       " 'mentor': ['sudhanshu', 'krish', 'anurag', 'hayder']}"
      ]
     },
     "execution_count": 15,
     "metadata": {},
     "output_type": "execute_result"
    }
   ],
   "source": [
    "d7"
   ]
  },
  {
   "cell_type": "code",
   "execution_count": 16,
   "id": "f5a22b8c-d5fe-4199-9982-a327c4598d33",
   "metadata": {},
   "outputs": [],
   "source": [
    "d7['number']: [2, 34, 3, 34, 34]"
   ]
  },
  {
   "cell_type": "code",
   "execution_count": 17,
   "id": "e1538fc7-1b9c-495c-b76c-ab0a5efa20cc",
   "metadata": {},
   "outputs": [
    {
     "data": {
      "text/plain": [
       "{'number': [2, 34, 3, 34, 34],\n",
       " 'assignment': (1, 2, 3, 4, 5, 6),\n",
       " 'launch_date': {12, 14, 28},\n",
       " 'class_time': {'web_dev': 8,\n",
       "  'data science masters': 8,\n",
       "  'java with dsa and system design': 7},\n",
       " 'mentor': ['sudhanshu', 'krish', 'anurag', 'hayder']}"
      ]
     },
     "execution_count": 17,
     "metadata": {},
     "output_type": "execute_result"
    }
   ],
   "source": [
    "d7"
   ]
  },
  {
   "cell_type": "code",
   "execution_count": 20,
   "id": "727a8d7b-79e3-4af4-8c03-89ab56b617b5",
   "metadata": {},
   "outputs": [],
   "source": [
    "del d7['number']"
   ]
  },
  {
   "cell_type": "code",
   "execution_count": 21,
   "id": "6e42158f-301f-48a4-83e6-69c863f12470",
   "metadata": {},
   "outputs": [
    {
     "data": {
      "text/plain": [
       "{'assignment': (1, 2, 3, 4, 5, 6),\n",
       " 'launch_date': {12, 14, 28},\n",
       " 'class_time': {'web_dev': 8,\n",
       "  'data science masters': 8,\n",
       "  'java with dsa and system design': 7},\n",
       " 'mentor': ['sudhanshu', 'krish', 'anurag', 'hayder']}"
      ]
     },
     "execution_count": 21,
     "metadata": {},
     "output_type": "execute_result"
    }
   ],
   "source": [
    "d7"
   ]
  },
  {
   "cell_type": "code",
   "execution_count": 23,
   "id": "3d9d6d8f-ad28-421c-803d-d97173ac5440",
   "metadata": {},
   "outputs": [
    {
     "data": {
      "text/plain": [
       "['assignment', 'launch_date', 'class_time', 'mentor']"
      ]
     },
     "execution_count": 23,
     "metadata": {},
     "output_type": "execute_result"
    }
   ],
   "source": [
    "list(d7.keys())"
   ]
  },
  {
   "cell_type": "code",
   "execution_count": 25,
   "id": "9a58ef4d-c426-49a7-834d-0c033e737cd4",
   "metadata": {},
   "outputs": [
    {
     "data": {
      "text/plain": [
       "[(1, 2, 3, 4, 5, 6),\n",
       " {12, 14, 28},\n",
       " {'web_dev': 8,\n",
       "  'data science masters': 8,\n",
       "  'java with dsa and system design': 7},\n",
       " ['sudhanshu', 'krish', 'anurag', 'hayder']]"
      ]
     },
     "execution_count": 25,
     "metadata": {},
     "output_type": "execute_result"
    }
   ],
   "source": [
    "list(d7.values())"
   ]
  },
  {
   "cell_type": "code",
   "execution_count": 28,
   "id": "2f86c6b7-9350-41b1-a4c2-c13d255fce14",
   "metadata": {},
   "outputs": [
    {
     "data": {
      "text/plain": [
       "[('assignment', (1, 2, 3, 4, 5, 6)),\n",
       " ('launch_date', {12, 14, 28}),\n",
       " ('class_time',\n",
       "  {'web_dev': 8,\n",
       "   'data science masters': 8,\n",
       "   'java with dsa and system design': 7}),\n",
       " ('mentor', ['sudhanshu', 'krish', 'anurag', 'hayder'])]"
      ]
     },
     "execution_count": 28,
     "metadata": {},
     "output_type": "execute_result"
    }
   ],
   "source": [
    "list(d7.items())"
   ]
  },
  {
   "cell_type": "code",
   "execution_count": 30,
   "id": "999808d9-aa20-4507-95cc-d67bd09f0d7a",
   "metadata": {},
   "outputs": [
    {
     "data": {
      "text/plain": [
       "(1, 2, 3, 4, 5, 6)"
      ]
     },
     "execution_count": 30,
     "metadata": {},
     "output_type": "execute_result"
    }
   ],
   "source": [
    "d7.pop('assignment')"
   ]
  },
  {
   "cell_type": "code",
   "execution_count": 31,
   "id": "d51fa457-f343-4a68-8957-be987b803a82",
   "metadata": {},
   "outputs": [
    {
     "data": {
      "text/plain": [
       "{'launch_date': {12, 14, 28},\n",
       " 'class_time': {'web_dev': 8,\n",
       "  'data science masters': 8,\n",
       "  'java with dsa and system design': 7},\n",
       " 'mentor': ['sudhanshu', 'krish', 'anurag', 'hayder']}"
      ]
     },
     "execution_count": 31,
     "metadata": {},
     "output_type": "execute_result"
    }
   ],
   "source": [
    "d7"
   ]
  },
  {
   "cell_type": "code",
   "execution_count": 1,
   "id": "a62cf13c-a3a0-4c27-97a9-01b5cf74be01",
   "metadata": {},
   "outputs": [
    {
     "ename": "NameError",
     "evalue": "name 'd7' is not defined",
     "output_type": "error",
     "traceback": [
      "\u001b[0;31m---------------------------------------------------------------------------\u001b[0m",
      "\u001b[0;31mNameError\u001b[0m                                 Traceback (most recent call last)",
      "Cell \u001b[0;32mIn[1], line 1\u001b[0m\n\u001b[0;32m----> 1\u001b[0m \u001b[43md7\u001b[49m\u001b[38;5;241m.\u001b[39mpop()\n",
      "\u001b[0;31mNameError\u001b[0m: name 'd7' is not defined"
     ]
    }
   ],
   "source": [
    "d7.pop()"
   ]
  },
  {
   "cell_type": "code",
   "execution_count": 9,
   "id": "b3a9ac9d-2a87-4d13-9239-8126487d5f64",
   "metadata": {},
   "outputs": [
    {
     "name": "stdin",
     "output_type": "stream",
     "text": [
      "enter your marks 90\n"
     ]
    },
    {
     "name": "stdout",
     "output_type": "stream",
     "text": [
      "you will be part of A0 batch\n"
     ]
    }
   ],
   "source": [
    "marks = int(input(\"enter your marks\"))\n",
    "if marks >= 80 :\n",
    "    print(\"you will be part of A0 batch\")\n",
    "elif marks >= 60 and marks < 80 :\n",
    "    print(\"you will be part of A1 batch\")\n",
    "elif marks >= 40 and marks < 60 :\n",
    "    print(\"you will be part of A2 batch\")\n",
    "else :\n",
    "    print(\"you will be part of A3 batch\")"
   ]
  },
  {
   "cell_type": "code",
   "execution_count": 3,
   "id": "2d070f1e-6ed7-4ab4-bfb7-1b825647d102",
   "metadata": {},
   "outputs": [
    {
     "data": {
      "text/plain": [
       "False"
      ]
     },
     "execution_count": 3,
     "metadata": {},
     "output_type": "execute_result"
    }
   ],
   "source": [
    "10 >= 80"
   ]
  },
  {
   "cell_type": "code",
   "execution_count": 4,
   "id": "e2ad7740-90f0-4cfe-b487-c5cd37754a68",
   "metadata": {},
   "outputs": [
    {
     "data": {
      "text/plain": [
       "False"
      ]
     },
     "execution_count": 4,
     "metadata": {},
     "output_type": "execute_result"
    }
   ],
   "source": [
    "20 >=44"
   ]
  },
  {
   "cell_type": "code",
   "execution_count": 5,
   "id": "80790ccc-d45a-4440-ae48-c11f4531221c",
   "metadata": {},
   "outputs": [
    {
     "data": {
      "text/plain": [
       "True"
      ]
     },
     "execution_count": 5,
     "metadata": {},
     "output_type": "execute_result"
    }
   ],
   "source": [
    "30>=22"
   ]
  },
  {
   "cell_type": "code",
   "execution_count": 10,
   "id": "90fa0db1-b5eb-4411-8e4c-6262ad9eae42",
   "metadata": {},
   "outputs": [
    {
     "name": "stdin",
     "output_type": "stream",
     "text": [
      "enter your marks 324\n"
     ]
    }
   ],
   "source": [
    "marks = int(input(\"enter your marks\"))"
   ]
  },
  {
   "cell_type": "code",
   "execution_count": 12,
   "id": "33fb4d71-1da0-41d6-9ac9-5d01c3e876cd",
   "metadata": {},
   "outputs": [
    {
     "data": {
      "text/plain": [
       "324"
      ]
     },
     "execution_count": 12,
     "metadata": {},
     "output_type": "execute_result"
    }
   ],
   "source": [
    "marks"
   ]
  },
  {
   "cell_type": "code",
   "execution_count": 11,
   "id": "2377bbf4-bb60-4e27-93dd-fb07eb244693",
   "metadata": {},
   "outputs": [
    {
     "data": {
      "text/plain": [
       "int"
      ]
     },
     "execution_count": 11,
     "metadata": {},
     "output_type": "execute_result"
    }
   ],
   "source": [
    "type(marks)"
   ]
  },
  {
   "cell_type": "code",
   "execution_count": 14,
   "id": "5343917b-8232-43f7-a0c3-4cf23acdcb5f",
   "metadata": {},
   "outputs": [
    {
     "name": "stdin",
     "output_type": "stream",
     "text": [
      "enter price 500\n"
     ]
    },
    {
     "name": "stdout",
     "output_type": "stream",
     "text": [
      "i will purchase\n"
     ]
    }
   ],
   "source": [
    "price = int(input(\"enter price\"))\n",
    "if price > 1000:\n",
    "    print (\"i will not purchase\")\n",
    "else :\n",
    "    print(\"i will purchase\")"
   ]
  },
  {
   "cell_type": "code",
   "execution_count": 27,
   "id": "0c160aae-fd4d-44e2-a58c-5fd68ba43d60",
   "metadata": {},
   "outputs": [
    {
     "name": "stdin",
     "output_type": "stream",
     "text": [
      "enter price 1500\n"
     ]
    },
    {
     "name": "stdout",
     "output_type": "stream",
     "text": [
      "i will not purchase\n",
      "its ok\n"
     ]
    }
   ],
   "source": [
    "price = int(input(\"enter price\"))\n",
    "if price > 1000:\n",
    "    print (\"i will not purchase\")\n",
    "    if price > 5000:\n",
    "        print (\"this is too much\")\n",
    "    elif price < 2000 :\n",
    "            print (\"its ok\")\n",
    "elif price < 1000 :\n",
    "    print(\"i will purchase\")\n",
    "else :\n",
    "    print(\"not intrested\")\n",
    "            \n",
    "            \n"
   ]
  },
  {
   "cell_type": "code",
   "execution_count": 29,
   "id": "ba13a10a-ac97-4a27-8a63-c7418200880c",
   "metadata": {},
   "outputs": [],
   "source": [
    "l = [1,2,3,4,5,6,7,8]"
   ]
  },
  {
   "cell_type": "code",
   "execution_count": 31,
   "id": "50d41390-6f10-4c23-ad92-f305883d406c",
   "metadata": {},
   "outputs": [
    {
     "data": {
      "text/plain": [
       "2"
      ]
     },
     "execution_count": 31,
     "metadata": {},
     "output_type": "execute_result"
    }
   ],
   "source": [
    "l[0] +1"
   ]
  },
  {
   "cell_type": "code",
   "execution_count": 32,
   "id": "9f811de7-7ea2-4fb1-9569-60df5a87653d",
   "metadata": {},
   "outputs": [],
   "source": [
    "l1 = []"
   ]
  },
  {
   "cell_type": "code",
   "execution_count": 33,
   "id": "fde9332c-ed02-42cd-a632-943b872ce815",
   "metadata": {},
   "outputs": [],
   "source": [
    "l1.append(l[0] +1)"
   ]
  },
  {
   "cell_type": "code",
   "execution_count": 34,
   "id": "0a521f46-8e42-4793-ad2e-2b5bcc1f4b15",
   "metadata": {},
   "outputs": [
    {
     "data": {
      "text/plain": [
       "[2]"
      ]
     },
     "execution_count": 34,
     "metadata": {},
     "output_type": "execute_result"
    }
   ],
   "source": [
    "l1"
   ]
  },
  {
   "cell_type": "code",
   "execution_count": 35,
   "id": "af4d761b-c264-48c1-92c9-d367bf191c01",
   "metadata": {},
   "outputs": [],
   "source": [
    "l =  [1,2,3,4,5,6,7,8]"
   ]
  },
  {
   "cell_type": "code",
   "execution_count": 40,
   "id": "51abffde-9900-479b-8803-378273043475",
   "metadata": {},
   "outputs": [
    {
     "name": "stdout",
     "output_type": "stream",
     "text": [
      "2\n",
      "3\n",
      "4\n",
      "5\n",
      "6\n",
      "7\n",
      "8\n",
      "9\n"
     ]
    },
    {
     "data": {
      "text/plain": [
       "[2, 3, 4, 5, 6, 7, 8, 9]"
      ]
     },
     "execution_count": 40,
     "metadata": {},
     "output_type": "execute_result"
    }
   ],
   "source": [
    "l1 = []\n",
    "for i in l :\n",
    "    print(i+1)\n",
    "    l1.append(i+1)\n",
    "l1"
   ]
  },
  {
   "cell_type": "code",
   "execution_count": 39,
   "id": "c4be8a1c-9386-439c-b90c-cb473b334695",
   "metadata": {},
   "outputs": [
    {
     "data": {
      "text/plain": [
       "[1, 2, 3, 4, 5, 6, 7, 8]"
      ]
     },
     "execution_count": 39,
     "metadata": {},
     "output_type": "execute_result"
    }
   ],
   "source": [
    "l"
   ]
  },
  {
   "cell_type": "code",
   "execution_count": 42,
   "id": "4a9dd2c8-182a-4f70-af4e-d6a24a2dd2b7",
   "metadata": {},
   "outputs": [],
   "source": [
    "l = (\"attri\" , \"kumar\", \"pwskills\", \"course\")"
   ]
  },
  {
   "cell_type": "code",
   "execution_count": 43,
   "id": "7d7b755f-223c-4deb-8c9f-f549b2709538",
   "metadata": {},
   "outputs": [
    {
     "data": {
      "text/plain": [
       "'attri'"
      ]
     },
     "execution_count": 43,
     "metadata": {},
     "output_type": "execute_result"
    }
   ],
   "source": [
    "l [0]"
   ]
  },
  {
   "cell_type": "code",
   "execution_count": 45,
   "id": "80217f4b-13d0-4386-983d-4972d5dd9e76",
   "metadata": {},
   "outputs": [
    {
     "name": "stdout",
     "output_type": "stream",
     "text": [
      "attri\n",
      "kumar\n",
      "pwskills\n",
      "course\n"
     ]
    }
   ],
   "source": [
    "l1 = []\n",
    "for i in l: \n",
    "    print(i)\n",
    "    l1.append(i.upper())"
   ]
  },
  {
   "cell_type": "code",
   "execution_count": 46,
   "id": "e9048018-6261-4f1c-bd11-39e0d5caa465",
   "metadata": {},
   "outputs": [
    {
     "data": {
      "text/plain": [
       "['ATTRI', 'KUMAR', 'PWSKILLS', 'COURSE']"
      ]
     },
     "execution_count": 46,
     "metadata": {},
     "output_type": "execute_result"
    }
   ],
   "source": [
    "l1"
   ]
  },
  {
   "cell_type": "code",
   "execution_count": 2,
   "id": "3ca132ee-b0aa-411f-b263-ae0e13bae86a",
   "metadata": {},
   "outputs": [],
   "source": [
    "l = [1,2,3,4,4,\"attri\",\"anurag\",324,34.456,\"abc\"]"
   ]
  },
  {
   "cell_type": "code",
   "execution_count": 3,
   "id": "38b561d8-bdd2-43f3-a1de-5df18011e772",
   "metadata": {},
   "outputs": [],
   "source": [
    "l1_num = []\n",
    "l2_str = []\n",
    "for i in l :\n",
    "    if type (i) ==int or type(i) == float :\n",
    "        l1_num.append(i)\n",
    "    else :\n",
    "        l2_str.append(i)"
   ]
  },
  {
   "cell_type": "code",
   "execution_count": 4,
   "id": "cff4d612-32b9-415c-ba6c-12523a3d7a76",
   "metadata": {},
   "outputs": [
    {
     "data": {
      "text/plain": [
       "[1, 2, 3, 4, 4, 324, 34.456]"
      ]
     },
     "execution_count": 4,
     "metadata": {},
     "output_type": "execute_result"
    }
   ],
   "source": [
    "l1_num"
   ]
  },
  {
   "cell_type": "code",
   "execution_count": 5,
   "id": "958d74de-59a8-4186-ada9-f8a076255a2b",
   "metadata": {},
   "outputs": [
    {
     "data": {
      "text/plain": [
       "['attri', 'anurag', 'abc']"
      ]
     },
     "execution_count": 5,
     "metadata": {},
     "output_type": "execute_result"
    }
   ],
   "source": [
    "l2_str"
   ]
  },
  {
   "cell_type": "code",
   "execution_count": null,
   "id": "f13ac14d-220f-4b75-ba11-72fc4775b047",
   "metadata": {},
   "outputs": [],
   "source": []
  }
 ],
 "metadata": {
  "kernelspec": {
   "display_name": "Python 3 (ipykernel)",
   "language": "python",
   "name": "python3"
  },
  "language_info": {
   "codemirror_mode": {
    "name": "ipython",
    "version": 3
   },
   "file_extension": ".py",
   "mimetype": "text/x-python",
   "name": "python",
   "nbconvert_exporter": "python",
   "pygments_lexer": "ipython3",
   "version": "3.10.8"
  }
 },
 "nbformat": 4,
 "nbformat_minor": 5
}
