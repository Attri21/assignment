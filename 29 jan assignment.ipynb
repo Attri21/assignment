{
 "cells": [
  {
   "cell_type": "raw",
   "id": "c1498fc4-d76f-465f-94cc-09317de43f58",
   "metadata": {},
   "source": [
    "Ans 1  = Python was created by Guvido van Rossum and first released on feburary 20,1991."
   ]
  },
  {
   "cell_type": "raw",
   "id": "401c0b76-72e2-4eec-b0f5-709663595367",
   "metadata": {},
   "source": [
    "Ans 2  = Python is an interpreted programming language, supporting object-oriented , structured, and functional programming."
   ]
  },
  {
   "cell_type": "raw",
   "id": "b1175047-97a8-40bf-b8ca-131ee0d2d0c1",
   "metadata": {},
   "source": [
    "Ans 3 = Yes, Python is a case sensitive language , it treats uppercase and lowercase characters differently.This applies to identifiers too. You must avoid using the same name with different cases while naming identifiers."
   ]
  },
  {
   "cell_type": "raw",
   "id": "2416e6f3-88bc-4019-90d2-070508ae839c",
   "metadata": {},
   "source": [
    "Ans 4 = The extensions for python files are .py"
   ]
  },
  {
   "cell_type": "raw",
   "id": "d9a59f51-a124-4f5c-91c7-d37de8f495c4",
   "metadata": {},
   "source": [
    "Ans 5 = Python is an interpreted language, which means the source code of python program is converted into bytecode that is then executed by the python virtual machine."
   ]
  },
  {
   "cell_type": "raw",
   "id": "779e2bc9-4727-43bb-a571-aee5a21a2763",
   "metadata": {},
   "source": [
    "Ans 6 = The following are blocks a module , a fucntion body, and a class defination."
   ]
  },
  {
   "cell_type": "raw",
   "id": "9634e82b-a743-40ae-aecd-61a45c986349",
   "metadata": {},
   "source": [
    "Ans 7 = We can write a single-line comment by adding a single # character before any statement."
   ]
  },
  {
   "cell_type": "raw",
   "id": "370ad871-156d-4e98-98e1-010a47619278",
   "metadata": {},
   "source": [
    "Ans 8 = The function sys.version can help us to find the version of python that we are currently working on."
   ]
  },
  {
   "cell_type": "raw",
   "id": "079e254a-ca67-4445-b912-dcd86e6b2b45",
   "metadata": {},
   "source": [
    "Ans 9 = \"lambda\""
   ]
  },
  {
   "cell_type": "raw",
   "id": "9f161162-1de7-4f57-bd9d-c1232d129bb9",
   "metadata": {},
   "source": [
    "Ans 10 = PIP stands for \"Preferred Installer Program \""
   ]
  },
  {
   "cell_type": "raw",
   "id": "b1a9fcbb-bdcf-4ff7-ab2b-006c3a76206a",
   "metadata": {},
   "source": [
    "Ans 11 = bool(), dict(), filter(),float()"
   ]
  },
  {
   "cell_type": "raw",
   "id": "5e1a8693-7b59-4c25-8e99-652b259dca2d",
   "metadata": {},
   "source": [
    "Ans 12 = An identifier can have a maximum length of 79 characters in Python."
   ]
  },
  {
   "cell_type": "raw",
   "id": "81a2eac9-826c-4e83-b846-bcefc29f0050",
   "metadata": {},
   "source": [
    "Ans 13 = Benefits of using python are:\n",
    "        1-Presence of third party modules\n",
    "        2- open source and large active community\n",
    "        3- Versatile , easy to read ,learn and write\n",
    "        4- User-friendly data structures\n",
    "        5- High-level language\n",
    "        6- Portable and interactive\n",
    "        7- Iterpreted language\n",
    "        8-"
   ]
  },
  {
   "cell_type": "raw",
   "id": "0af54d56-7339-4782-9330-2392ce8b8b3e",
   "metadata": {},
   "source": [
    "Ans 14 = It involves a private heap containing all python objects and data structures."
   ]
  },
  {
   "cell_type": "raw",
   "id": "73d914e9-19ab-4b1b-aca3-ae6eadf2785a",
   "metadata": {},
   "source": [
    "Ans 15 = 1- open a browser to the python website and download the windows installer\n",
    "        2- double click on the downloaded file and install python for all users, and ensure that python is added to your path. click on install now to begin\n",
    "        3- after the installation is complete ,click disable path length limit and then close\n",
    "        4- click close to end the installation."
   ]
  },
  {
   "cell_type": "raw",
   "id": "978f84f2-524d-4e91-87ba-d9c493d06383",
   "metadata": {},
   "source": [
    "Ans 16 = The indentation in Python is very important.Python uses indentation to indicate a block of code."
   ]
  }
 ],
 "metadata": {
  "kernelspec": {
   "display_name": "Python 3 (ipykernel)",
   "language": "python",
   "name": "python3"
  },
  "language_info": {
   "codemirror_mode": {
    "name": "ipython",
    "version": 3
   },
   "file_extension": ".py",
   "mimetype": "text/x-python",
   "name": "python",
   "nbconvert_exporter": "python",
   "pygments_lexer": "ipython3",
   "version": "3.10.8"
  }
 },
 "nbformat": 4,
 "nbformat_minor": 5
}
